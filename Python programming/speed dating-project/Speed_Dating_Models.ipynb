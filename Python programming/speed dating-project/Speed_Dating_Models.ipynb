{
 "cells": [
  {
   "cell_type": "code",
   "execution_count": 170,
   "metadata": {
    "collapsed": true
   },
   "outputs": [],
   "source": [
    "import pandas as pd\n",
    "from pandas import DataFrame, Series\n",
    "import numpy as np\n",
    "path=\"/Users/nikitalakhotia/Desktop/msba docs/data programming/project/Speed Dating Data_statecodes.csv\"\n",
    "data=pd.read_csv(path)"
   ]
  },
  {
   "cell_type": "code",
   "execution_count": 171,
   "metadata": {
    "collapsed": false
   },
   "outputs": [],
   "source": [
    "## Difference between rating given by subject to partner and rating given by subject to oneself ##\n",
    "data[\"diff_attr\"]=data[\"attr\"]-data[\"attr3_1\"] ## rating to partner-rating to oneself\n",
    "data[\"diff_sinc\"]=data[\"sinc\"]-data[\"sinc3_1\"]\n",
    "data[\"diff_intel\"]=data[\"intel\"]-data[\"intel3_1\"]\n",
    "data[\"diff_fun\"]=data[\"fun\"]-data[\"fun3_1\"]\n",
    "data[\"diff_amb\"]=data[\"amb\"]-data[\"amb3_1\"]\n",
    "\n",
    "### if \"diff_attribute\" >0 than 1 else 0 i.e. partner's rating is higher than 1 else 0.\n",
    "\n",
    "def bin(col):\n",
    "    data.loc[data[col] > 0, col] = 1\n",
    "    data.loc[data[col] < 0, col] = 0\n",
    "    data.loc[data[col] == 0, col] = 0\n",
    "bin(\"diff_attr\")\n",
    "bin(\"diff_sinc\")\n",
    "bin(\"diff_intel\")\n",
    "bin(\"diff_fun\")\n",
    "bin(\"diff_amb\")"
   ]
  },
  {
   "cell_type": "code",
   "execution_count": 5,
   "metadata": {
    "collapsed": true
   },
   "outputs": [],
   "source": [
    "## Filtering for male and female ##\n",
    "data_f=data[data[\"gender\"]==0]\n",
    "data_m=data[data[\"gender\"]==1]"
   ]
  },
  {
   "cell_type": "markdown",
   "metadata": {},
   "source": [
    "Logistics Regression taking into attributes (where subject rated the partner)\n",
    "\n",
    "1)The independent variables are the ratings that the subject assigned to the partner for various attributes such as Attractiveness, Ambition, Intelligence, etc."
   ]
  },
  {
   "cell_type": "code",
   "execution_count": 8,
   "metadata": {
    "collapsed": false
   },
   "outputs": [
    {
     "name": "stdout",
     "output_type": "stream",
     "text": [
      "Optimization terminated successfully.\n",
      "         Current function value: 0.502733\n",
      "         Iterations 6\n",
      "                           Logit Regression Results                           \n",
      "==============================================================================\n",
      "Dep. Variable:                    dec   No. Observations:                 3457\n",
      "Model:                          Logit   Df Residuals:                     3450\n",
      "Method:                           MLE   Df Model:                            6\n",
      "Date:                Sat, 06 Aug 2016   Pseudo R-squ.:                  0.2386\n",
      "Time:                        22:33:02   Log-Likelihood:                -1737.9\n",
      "converged:                       True   LL-Null:                       -2282.7\n",
      "                                        LLR p-value:                3.881e-232\n",
      "==============================================================================\n",
      "                 coef    std err          z      P>|z|      [95.0% Conf. Int.]\n",
      "------------------------------------------------------------------------------\n",
      "Intercept     -5.5508      0.274    -20.294      0.000        -6.087    -5.015\n",
      "attr           0.4062      0.029     13.871      0.000         0.349     0.464\n",
      "sinc          -0.0907      0.035     -2.602      0.009        -0.159    -0.022\n",
      "intel          0.1290      0.045      2.891      0.004         0.042     0.216\n",
      "fun            0.2745      0.033      8.205      0.000         0.209     0.340\n",
      "amb           -0.1727      0.034     -5.023      0.000        -0.240    -0.105\n",
      "shar           0.2763      0.027     10.374      0.000         0.224     0.328\n",
      "==============================================================================\n"
     ]
    }
   ],
   "source": [
    "\n",
    "## Logistic regression on females\n",
    "import statsmodels.api as sm\n",
    "from patsy import dmatrices\n",
    "y, X = dmatrices('dec ~ attr+sinc+intel+fun+amb+shar', data=data_f, return_type='dataframe')   \n",
    "model = sm.Logit(y, X)      # Fit model (find the intercept and slopes)\n",
    "result = model.fit()\n",
    "print result.summary()"
   ]
  },
  {
   "cell_type": "code",
   "execution_count": 10,
   "metadata": {
    "collapsed": false
   },
   "outputs": [
    {
     "name": "stdout",
     "output_type": "stream",
     "text": [
      "Optimization terminated successfully.\n",
      "         Current function value: 0.502307\n",
      "         Iterations 6\n",
      "                           Logit Regression Results                           \n",
      "==============================================================================\n",
      "Dep. Variable:                    dec   No. Observations:                 3583\n",
      "Model:                          Logit   Df Residuals:                     3576\n",
      "Method:                           MLE   Df Model:                            6\n",
      "Date:                Sat, 06 Aug 2016   Pseudo R-squ.:                  0.2750\n",
      "Time:                        22:39:14   Log-Likelihood:                -1799.8\n",
      "converged:                       True   LL-Null:                       -2482.5\n",
      "                                        LLR p-value:                7.342e-292\n",
      "==============================================================================\n",
      "                 coef    std err          z      P>|z|      [95.0% Conf. Int.]\n",
      "------------------------------------------------------------------------------\n",
      "Intercept     -5.2991      0.267    -19.853      0.000        -5.822    -4.776\n",
      "attr           0.6814      0.033     20.759      0.000         0.617     0.746\n",
      "sinc          -0.1605      0.037     -4.372      0.000        -0.232    -0.089\n",
      "intel         -0.0330      0.042     -0.778      0.437        -0.116     0.050\n",
      "fun            0.2606      0.034      7.645      0.000         0.194     0.327\n",
      "amb           -0.1529      0.034     -4.529      0.000        -0.219    -0.087\n",
      "shar           0.2708      0.026     10.405      0.000         0.220     0.322\n",
      "==============================================================================\n"
     ]
    }
   ],
   "source": [
    "## Logistic regression on males\n",
    "y, X = dmatrices('dec ~ attr+sinc+intel+fun+amb+shar', data=data_m, return_type='dataframe')   \n",
    "model = sm.Logit(y, X)      # Fit model (find the intercept and slopes)\n",
    "result = model.fit()\n",
    "print result.summary()"
   ]
  },
  {
   "cell_type": "markdown",
   "metadata": {},
   "source": [
    "Key Insights:\n",
    "\n",
    "1) Males put more weight on physical attractivesness than female do.\n",
    "\n",
    "2) While females put more weight on intelligence as compared to males."
   ]
  },
  {
   "cell_type": "markdown",
   "metadata": {},
   "source": [
    "### taking interaction terms of attr and diff_attr ####"
   ]
  },
  {
   "cell_type": "code",
   "execution_count": 21,
   "metadata": {
    "collapsed": false
   },
   "outputs": [
    {
     "name": "stdout",
     "output_type": "stream",
     "text": [
      "Optimization terminated successfully.\n",
      "         Current function value: 0.512620\n",
      "         Iterations 7\n",
      "                           Logit Regression Results                           \n",
      "==============================================================================\n",
      "Dep. Variable:                    dec   No. Observations:                 3702\n",
      "Model:                          Logit   Df Residuals:                     3686\n",
      "Method:                           MLE   Df Model:                           15\n",
      "Date:                Sat, 06 Aug 2016   Pseudo R-squ.:                  0.2230\n",
      "Time:                        23:10:10   Log-Likelihood:                -1897.7\n",
      "converged:                       True   LL-Null:                       -2442.2\n",
      "                                        LLR p-value:                1.086e-222\n",
      "====================================================================================\n",
      "                       coef    std err          z      P>|z|      [95.0% Conf. Int.]\n",
      "------------------------------------------------------------------------------------\n",
      "Intercept           -3.4223      0.457     -7.486      0.000        -4.318    -2.526\n",
      "attr                 0.3381      0.046      7.272      0.000         0.247     0.429\n",
      "diff_attr           -0.0505      0.068     -0.739      0.460        -0.185     0.083\n",
      "attr:diff_attr       0.0295      0.010      3.077      0.002         0.011     0.048\n",
      "sinc                -0.1755      0.048     -3.683      0.000        -0.269    -0.082\n",
      "diff_sinc            0.2354      0.081      2.908      0.004         0.077     0.394\n",
      "sinc:diff_sinc      -0.0198      0.011     -1.873      0.061        -0.041     0.001\n",
      "intel                0.1174      0.062      1.891      0.059        -0.004     0.239\n",
      "diff_intel           0.1540      0.132      1.168      0.243        -0.104     0.412\n",
      "intel:diff_intel    -0.0178      0.016     -1.083      0.279        -0.050     0.014\n",
      "fun                  0.3804      0.046      8.230      0.000         0.290     0.471\n",
      "diff_fun             0.0074      0.075      0.097      0.922        -0.141     0.155\n",
      "fun:diff_fun        -0.0009      0.011     -0.087      0.930        -0.022     0.020\n",
      "amb                 -0.1494      0.040     -3.692      0.000        -0.229    -0.070\n",
      "diff_amb             0.0405      0.076      0.533      0.594        -0.108     0.189\n",
      "amb:diff_amb        -0.0010      0.010     -0.095      0.924        -0.021     0.019\n",
      "====================================================================================\n"
     ]
    }
   ],
   "source": [
    "y, X = dmatrices('dec ~ attr*diff_attr+sinc*diff_sinc+intel*diff_intel+fun*diff_fun+\\\n",
    "                 amb*diff_amb', data=data_f, return_type='dataframe')   \n",
    "model = sm.Logit(y, X)      # Fit model (find the intercept and slopes)\n",
    "result = model.fit()\n",
    "print result.summary()"
   ]
  },
  {
   "cell_type": "code",
   "execution_count": 20,
   "metadata": {
    "collapsed": false
   },
   "outputs": [
    {
     "name": "stdout",
     "output_type": "stream",
     "text": [
      "Optimization terminated successfully.\n",
      "         Current function value: 0.502776\n",
      "         Iterations 7\n",
      "                           Logit Regression Results                           \n",
      "==============================================================================\n",
      "Dep. Variable:                    dec   No. Observations:                 3763\n",
      "Model:                          Logit   Df Residuals:                     3747\n",
      "Method:                           MLE   Df Model:                           15\n",
      "Date:                Sat, 06 Aug 2016   Pseudo R-squ.:                  0.2738\n",
      "Time:                        23:09:46   Log-Likelihood:                -1891.9\n",
      "converged:                       True   LL-Null:                       -2605.4\n",
      "                                        LLR p-value:                2.579e-295\n",
      "====================================================================================\n",
      "                       coef    std err          z      P>|z|      [95.0% Conf. Int.]\n",
      "------------------------------------------------------------------------------------\n",
      "Intercept           -4.8600      0.428    -11.353      0.000        -5.699    -4.021\n",
      "attr                 0.6453      0.048     13.390      0.000         0.551     0.740\n",
      "diff_attr            0.2398      0.092      2.595      0.009         0.059     0.421\n",
      "attr:diff_attr      -0.0256      0.013     -2.035      0.042        -0.050    -0.001\n",
      "sinc                -0.2150      0.049     -4.423      0.000        -0.310    -0.120\n",
      "diff_sinc            0.1219      0.084      1.459      0.145        -0.042     0.286\n",
      "sinc:diff_sinc      -0.0065      0.011     -0.591      0.555        -0.028     0.015\n",
      "intel                0.1333      0.062      2.148      0.032         0.012     0.255\n",
      "diff_intel           0.1069      0.119      0.896      0.370        -0.127     0.341\n",
      "intel:diff_intel    -0.0455      0.016     -2.837      0.005        -0.077    -0.014\n",
      "fun                  0.2060      0.042      4.860      0.000         0.123     0.289\n",
      "diff_fun             0.4082      0.082      4.967      0.000         0.247     0.569\n",
      "fun:diff_fun        -0.0435      0.012     -3.654      0.000        -0.067    -0.020\n",
      "amb                 -0.0062      0.041     -0.151      0.880        -0.086     0.074\n",
      "diff_amb             0.0954      0.067      1.419      0.156        -0.036     0.227\n",
      "amb:diff_amb        -0.0268      0.010     -2.801      0.005        -0.046    -0.008\n",
      "====================================================================================\n"
     ]
    }
   ],
   "source": [
    "y, X = dmatrices('dec ~ attr*diff_attr+sinc*diff_sinc+intel*diff_intel+fun*diff_fun+\\\n",
    "                 amb*diff_amb', data=data_m, return_type='dataframe')   \n",
    "model = sm.Logit(y, X)      # Fit model (find the intercept and slopes)\n",
    "result = model.fit()\n",
    "print result.summary()"
   ]
  },
  {
   "cell_type": "markdown",
   "metadata": {},
   "source": [
    "1) For ambition, the interaction term is insignificant for females but is significantly negative for males.  In other words, men strictly prefer women with their own level of ambition to women more ambitious than they are. \n",
    "\n",
    "2) The results on intelligence are qualitatively similar to those on ambition\n",
    "\n",
    "Hence, we demonstrate that on average men do not value women’s intel- ligence or ambition when it exceeds their own; moreover, a man is less likely to select a woman whom he perceives to be more ambi- tious than he is.\n"
   ]
  },
  {
   "cell_type": "code",
   "execution_count": 158,
   "metadata": {
    "collapsed": true
   },
   "outputs": [],
   "source": [
    "### Look at the importance of similarity ###\n",
    "data_s1=data[[\"iid\",\"pid\",\"field_cd\",\"country\"]]\n",
    "data_s2=data[[\"iid\",\"pid\",\"field_cd\",\"country\"]]\n",
    "data_s=pd.merge(data_s1, data_s2, how=\"inner\",left_on=[\"iid\",\"pid\"], right_on=[\"pid\",\"iid\"], suffixes=[\"_dater\",\"_partner\"])"
   ]
  },
  {
   "cell_type": "code",
   "execution_count": 159,
   "metadata": {
    "collapsed": false
   },
   "outputs": [],
   "source": [
    "## variable -> if subject has same race as partner \n",
    "data_s[\"field_same\"]=0\n",
    "data_s.loc[data_s[\"field_cd_dater\"]== data_s[\"field_cd_partner\"], \"field_same\"] = 1\n",
    "\n",
    "data_s[\"region_same\"]=0\n",
    "data_s.loc[data_s[\"country_dater\"]== data_s[\"country_partner\"], \"region_same\"] = 1"
   ]
  },
  {
   "cell_type": "code",
   "execution_count": 160,
   "metadata": {
    "collapsed": false
   },
   "outputs": [],
   "source": [
    "data_s_drop=data_s.drop(data_s.columns[[2,3,4,5,6,7]], axis=1)\n",
    "data_final=pd.merge(data, data_s_drop, how=\"left\", left_on=[\"iid\",\"pid\"], right_on=[\"iid_dater\", \"pid_dater\"])"
   ]
  },
  {
   "cell_type": "code",
   "execution_count": 161,
   "metadata": {
    "collapsed": false
   },
   "outputs": [],
   "source": [
    "## Filtering for male and female ##\n",
    "data_f=data_final[data_final[\"gender\"]==0]\n",
    "data_m=data_final[data_final[\"gender\"]==1]"
   ]
  },
  {
   "cell_type": "code",
   "execution_count": 74,
   "metadata": {
    "collapsed": false
   },
   "outputs": [
    {
     "name": "stdout",
     "output_type": "stream",
     "text": [
      "Optimization terminated successfully.\n",
      "         Current function value: 0.654935\n",
      "         Iterations 4\n",
      "                           Logit Regression Results                           \n",
      "==============================================================================\n",
      "Dep. Variable:                    dec   No. Observations:                 4184\n",
      "Model:                          Logit   Df Residuals:                     4180\n",
      "Method:                           MLE   Df Model:                            3\n",
      "Date:                Sun, 07 Aug 2016   Pseudo R-squ.:                0.002360\n",
      "Time:                        01:50:43   Log-Likelihood:                -2740.2\n",
      "converged:                       True   LL-Null:                       -2746.7\n",
      "                                        LLR p-value:                  0.004712\n",
      "===============================================================================\n",
      "                  coef    std err          z      P>|z|      [95.0% Conf. Int.]\n",
      "-------------------------------------------------------------------------------\n",
      "Intercept      -0.6680      0.052    -12.750      0.000        -0.771    -0.565\n",
      "samerace        0.1963      0.066      2.985      0.003         0.067     0.325\n",
      "field_same      0.1892      0.099      1.906      0.057        -0.005     0.384\n",
      "region_same     0.0304      0.065      0.469      0.639        -0.096     0.157\n",
      "===============================================================================\n"
     ]
    }
   ],
   "source": [
    "y, X = dmatrices('dec ~ samerace+field_same+region_same', data=data_f, return_type='dataframe')   \n",
    "model = sm.Logit(y, X)      # Fit model (find the intercept and slopes)\n",
    "result = model.fit()\n",
    "print result.summary()"
   ]
  },
  {
   "cell_type": "code",
   "execution_count": 75,
   "metadata": {
    "collapsed": false
   },
   "outputs": [
    {
     "name": "stdout",
     "output_type": "stream",
     "text": [
      "Optimization terminated successfully.\n",
      "         Current function value: 0.688579\n",
      "         Iterations 4\n",
      "                           Logit Regression Results                           \n",
      "==============================================================================\n",
      "Dep. Variable:                    dec   No. Observations:                 4184\n",
      "Model:                          Logit   Df Residuals:                     4180\n",
      "Method:                           MLE   Df Model:                            3\n",
      "Date:                Sun, 07 Aug 2016   Pseudo R-squ.:                0.004746\n",
      "Time:                        01:50:51   Log-Likelihood:                -2881.0\n",
      "converged:                       True   LL-Null:                       -2894.8\n",
      "                                        LLR p-value:                 4.670e-06\n",
      "===============================================================================\n",
      "                  coef    std err          z      P>|z|      [95.0% Conf. Int.]\n",
      "-------------------------------------------------------------------------------\n",
      "Intercept      -0.2352      0.050     -4.683      0.000        -0.334    -0.137\n",
      "samerace       -0.0161      0.064     -0.253      0.800        -0.141     0.109\n",
      "field_same      0.4153      0.098      4.241      0.000         0.223     0.607\n",
      "region_same     0.1881      0.062      3.012      0.003         0.066     0.311\n",
      "===============================================================================\n"
     ]
    }
   ],
   "source": [
    "y, X = dmatrices('dec ~ samerace+field_same+region_same', data=data_m, return_type='dataframe')   \n",
    "model = sm.Logit(y, X)      # Fit model (find the intercept and slopes)\n",
    "result = model.fit()\n",
    "print result.summary()"
   ]
  },
  {
   "cell_type": "markdown",
   "metadata": {},
   "source": [
    "1) women exhibit strong preference for partners of their own race, while men do not.\n",
    "Women strongly discriminate on the basis of race. Men, on the other hand, do not exhibit a significant racial preference.\n",
    "\n",
    "2)both men and women prefer partners from the same region of the world."
   ]
  },
  {
   "cell_type": "code",
   "execution_count": 87,
   "metadata": {
    "collapsed": false
   },
   "outputs": [
    {
     "name": "stdout",
     "output_type": "stream",
     "text": [
      "Optimization terminated successfully.\n",
      "         Current function value: 0.512149\n",
      "         Iterations 6\n",
      "                           Logit Regression Results                           \n",
      "==============================================================================\n",
      "Dep. Variable:                    dec   No. Observations:                 3702\n",
      "Model:                          Logit   Df Residuals:                     3683\n",
      "Method:                           MLE   Df Model:                           18\n",
      "Date:                Sun, 07 Aug 2016   Pseudo R-squ.:                  0.2237\n",
      "Time:                        01:58:32   Log-Likelihood:                -1896.0\n",
      "converged:                       True   LL-Null:                       -2442.2\n",
      "                                        LLR p-value:                1.151e-220\n",
      "====================================================================================\n",
      "                       coef    std err          z      P>|z|      [95.0% Conf. Int.]\n",
      "------------------------------------------------------------------------------------\n",
      "Intercept           -5.7442      0.333    -17.239      0.000        -6.397    -5.091\n",
      "attr                 0.4117      0.036     11.531      0.000         0.342     0.482\n",
      "diff_attr            2.1227      0.561      3.784      0.000         1.023     3.222\n",
      "attr:diff_attr      -0.2228      0.074     -3.023      0.002        -0.367    -0.078\n",
      "sinc                -0.0356      0.037     -0.959      0.338        -0.108     0.037\n",
      "diff_sinc            1.9506      0.674      2.893      0.004         0.629     3.272\n",
      "sinc:diff_sinc      -0.2038      0.079     -2.578      0.010        -0.359    -0.049\n",
      "intel                0.1536      0.049      3.147      0.002         0.058     0.249\n",
      "diff_intel          -0.1656      0.904     -0.183      0.855        -1.937     1.606\n",
      "intel:diff_intel     0.0073      0.103      0.071      0.944        -0.194     0.209\n",
      "fun                  0.3984      0.035     11.352      0.000         0.330     0.467\n",
      "diff_fun             1.8127      0.660      2.747      0.006         0.519     3.106\n",
      "fun:diff_fun        -0.2127      0.082     -2.606      0.009        -0.373    -0.053\n",
      "amb                 -0.1403      0.039     -3.588      0.000        -0.217    -0.064\n",
      "diff_amb            -0.0929      0.524     -0.177      0.859        -1.120     0.935\n",
      "amb:diff_amb         0.0244      0.066      0.369      0.712        -0.105     0.154\n",
      "samerace             0.0760      0.082      0.925      0.355        -0.085     0.237\n",
      "field_same           0.0929      0.120      0.772      0.440        -0.143     0.329\n",
      "region_same         -0.1527      0.080     -1.902      0.057        -0.310     0.005\n",
      "====================================================================================\n"
     ]
    }
   ],
   "source": [
    "y, X = dmatrices('dec ~ attr*diff_attr+sinc*diff_sinc+intel*diff_intel+fun*diff_fun+\\\n",
    "                 amb*diff_amb+samerace+field_same+region_same', data=data_f, return_type='dataframe')   \n",
    "model = sm.Logit(y, X)      # Fit model (find the intercept and slopes)\n",
    "result = model.fit()\n",
    "print result.summary()"
   ]
  },
  {
   "cell_type": "code",
   "execution_count": 88,
   "metadata": {
    "collapsed": false
   },
   "outputs": [
    {
     "name": "stdout",
     "output_type": "stream",
     "text": [
      "Optimization terminated successfully.\n",
      "         Current function value: 0.503359\n",
      "         Iterations 6\n",
      "                           Logit Regression Results                           \n",
      "==============================================================================\n",
      "Dep. Variable:                    dec   No. Observations:                 3753\n",
      "Model:                          Logit   Df Residuals:                     3734\n",
      "Method:                           MLE   Df Model:                           18\n",
      "Date:                Sun, 07 Aug 2016   Pseudo R-squ.:                  0.2730\n",
      "Time:                        01:58:32   Log-Likelihood:                -1889.1\n",
      "converged:                       True   LL-Null:                       -2598.7\n",
      "                                        LLR p-value:                1.132e-290\n",
      "====================================================================================\n",
      "                       coef    std err          z      P>|z|      [95.0% Conf. Int.]\n",
      "------------------------------------------------------------------------------------\n",
      "Intercept           -6.8982      0.367    -18.800      0.000        -7.617    -6.179\n",
      "attr                 0.7602      0.045     17.058      0.000         0.673     0.848\n",
      "diff_attr            1.4934      0.544      2.747      0.006         0.428     2.559\n",
      "attr:diff_attr      -0.1958      0.074     -2.637      0.008        -0.341    -0.050\n",
      "sinc                -0.1392      0.040     -3.441      0.001        -0.218    -0.060\n",
      "diff_sinc            0.8777      0.717      1.224      0.221        -0.528     2.283\n",
      "sinc:diff_sinc      -0.0808      0.086     -0.942      0.346        -0.249     0.087\n",
      "intel                0.0570      0.046      1.245      0.213        -0.033     0.147\n",
      "diff_intel           2.4536      0.946      2.595      0.009         0.600     4.307\n",
      "intel:diff_intel    -0.3374      0.110     -3.078      0.002        -0.552    -0.123\n",
      "fun                  0.4186      0.038     11.026      0.000         0.344     0.493\n",
      "diff_fun             3.3167      0.507      6.547      0.000         2.324     4.310\n",
      "fun:diff_fun        -0.4111      0.067     -6.102      0.000        -0.543    -0.279\n",
      "amb                 -0.0246      0.038     -0.649      0.516        -0.099     0.050\n",
      "diff_amb            -0.0682      0.497     -0.137      0.891        -1.042     0.906\n",
      "amb:diff_amb        -0.0267      0.067     -0.400      0.689        -0.158     0.104\n",
      "samerace            -0.0583      0.083     -0.705      0.481        -0.221     0.104\n",
      "field_same           0.2254      0.128      1.756      0.079        -0.026     0.477\n",
      "region_same         -0.1384      0.082     -1.692      0.091        -0.299     0.022\n",
      "====================================================================================\n"
     ]
    }
   ],
   "source": [
    "y, X = dmatrices('dec ~ attr*diff_attr+sinc*diff_sinc+intel*diff_intel+fun*diff_fun+\\\n",
    "                 amb*diff_amb+samerace+field_same+region_same', data=data_m, return_type='dataframe')   \n",
    "model = sm.Logit(y, X)      # Fit model (find the intercept and slopes)\n",
    "result = model.fit()\n",
    "print result.summary()"
   ]
  },
  {
   "cell_type": "markdown",
   "metadata": {},
   "source": [
    "### Clustering K means ###\n"
   ]
  },
  {
   "cell_type": "code",
   "execution_count": 107,
   "metadata": {
    "collapsed": false
   },
   "outputs": [
    {
     "name": "stdout",
     "output_type": "stream",
     "text": [
      "Populating the interactive namespace from numpy and matplotlib\n"
     ]
    },
    {
     "data": {
      "text/plain": [
       "<matplotlib.collections.PathCollection at 0x125256390>"
      ]
     },
     "execution_count": 107,
     "metadata": {},
     "output_type": "execute_result"
    },
    {
     "data": {
      "image/png": "[encoded data removed]",
      "text/plain": [
       "<matplotlib.figure.Figure at 0x1130cb0d0>"
      ]
     },
     "metadata": {},
     "output_type": "display_data"
    }
   ],
   "source": [
    "from sklearn.cluster import KMeans\n",
    "from pandas import Series, DataFrame\n",
    "import pandas as pd\n",
    "from patsy import dmatrices\n",
    "%pylab inline\n",
    "import warnings\n",
    "warnings.filterwarnings('ignore')\n",
    "import statsmodels.api as sm\n",
    "from patsy import dmatrices\n",
    "model = KMeans(n_clusters=5, random_state=1)\n",
    "data_cluster=data_final[[\"attr\",\"diff_attr\",\"sinc\",\"diff_sinc\",\"intel\",\"diff_intel\",\"fun\",\"diff_fun\",\\\n",
    "                         \"amb\",\"diff_amb\",\"samerace\",\"field_same\",\"region_same\", \"gender\",\"dec\"]]\n",
    "data_f_no_na=data_cluster.fillna(0)\n",
    "X=data_f_no_na.values\n",
    "model.fit(X)\n",
    "scatter(X[:,1], X[:,4], c=model.labels_, cmap='gist_ncar')\n",
    "scatter(model.cluster_centers_[:,13], model.cluster_centers_[:,14], marker=\"x\", s=200, linewidths=5)"
   ]
  },
  {
   "cell_type": "markdown",
   "metadata": {},
   "source": [
    "## Decision Trees ##"
   ]
  },
  {
   "cell_type": "code",
   "execution_count": 162,
   "metadata": {
    "collapsed": false
   },
   "outputs": [
    {
     "name": "stdout",
     "output_type": "stream",
     "text": [
      "0.98172820708\n"
     ]
    }
   ],
   "source": [
    "y, X = dmatrices('dec ~ attr*diff_attr+sinc*diff_sinc+intel*diff_intel+fun*diff_fun+\\\n",
    "                 amb*diff_amb+samerace+field_same+region_same', data=data_m, return_type='dataframe')   \n",
    "\n",
    "from sklearn.cross_validation import train_test_split\n",
    "X_train, X_test, y_train, y_test = train_test_split(X, y, test_size=0.3, random_state=1)\n",
    "\n",
    "from sklearn import tree ## Set up classifier\n",
    "model = tree.DecisionTreeClassifier(criterion='entropy')\n",
    "result = model.fit(X_train, y_train) ##fit the data\n",
    "\n",
    "from sklearn import metrics\n",
    "\n",
    "prediction_train = model.predict(X_train)\n",
    "print metrics.accuracy_score(y_train, prediction_train) ##"
   ]
  },
  {
   "cell_type": "code",
   "execution_count": 163,
   "metadata": {
    "collapsed": false
   },
   "outputs": [
    {
     "name": "stdout",
     "output_type": "stream",
     "text": [
      "0.693605683837\n"
     ]
    }
   ],
   "source": [
    "prediction = model.predict(X_test)\n",
    "print metrics.accuracy_score(y_test, prediction) ## accuracy on test set"
   ]
  },
  {
   "cell_type": "markdown",
   "metadata": {},
   "source": [
    "This is far worse than the 92% accuracy we expected from the training set. Clearly, we are **overfitting**."
   ]
  },
  {
   "cell_type": "markdown",
   "metadata": {},
   "source": [
    "One way to avoid overfitting is to ensure that trees never become too deep, via the _max\\_depth_ argument."
   ]
  },
  {
   "cell_type": "code",
   "execution_count": 164,
   "metadata": {
    "collapsed": false
   },
   "outputs": [
    {
     "name": "stdout",
     "output_type": "stream",
     "text": [
      "0.732394366197\n"
     ]
    }
   ],
   "source": [
    "model2 = tree.DecisionTreeClassifier(criterion='entropy', max_depth=2)\n",
    "result = model2.fit(X_train, y_train)\n",
    "\n",
    "prediction_train = model2.predict(X_train)\n",
    "print metrics.accuracy_score(y_train, prediction_train)"
   ]
  },
  {
   "cell_type": "code",
   "execution_count": 165,
   "metadata": {
    "collapsed": false
   },
   "outputs": [
    {
     "name": "stdout",
     "output_type": "stream",
     "text": [
      "0.745115452931\n"
     ]
    }
   ],
   "source": [
    "prediction = model2.predict(X_test)\n",
    "print metrics.accuracy_score(y_test, prediction)"
   ]
  },
  {
   "cell_type": "code",
   "execution_count": null,
   "metadata": {
    "collapsed": false
   },
   "outputs": [],
   "source": [
    "from StringIO import StringIO\n",
    "import pydotplus\n",
    "from IPython.display import Image \n",
    "dot_data = StringIO()\n",
    "tree.export_graphviz(model2, out_file=dot_data, feature_names=X.columns.values)\n",
    "#pydotplus.graph_from_dot_data(dot_data.getvalue()).write_png('/Users/nikitalakhotia/Desktop/trial.png')\n",
    "\n",
    "graph = pydotplus.graph_from_dot_data(dot_data.getvalue()) \n",
    "Image(graph.create_png()) "
   ]
  },
  {
   "cell_type": "code",
   "execution_count": null,
   "metadata": {
    "collapsed": false
   },
   "outputs": [],
   "source": []
  },
  {
   "cell_type": "code",
   "execution_count": null,
   "metadata": {
    "collapsed": true
   },
   "outputs": [],
   "source": []
  }
 ],
 "metadata": {
  "kernelspec": {
   "display_name": "Python 2",
   "language": "python",
   "name": "python2"
  },
  "language_info": {
   "codemirror_mode": {
    "name": "ipython",
    "version": 2
   },
   "file_extension": ".py",
   "mimetype": "text/x-python",
   "name": "python",
   "nbconvert_exporter": "python",
   "pygments_lexer": "ipython2",
   "version": "2.7.11"
  }
 },
 "nbformat": 4,
 "nbformat_minor": 0
}
