{
 "cells": [
  {
   "cell_type": "code",
   "execution_count": 96,
   "metadata": {
    "collapsed": true
   },
   "outputs": [],
   "source": [
    "import pandas as pd\n",
    "from pandas import DataFrame, Series\n",
    "import numpy as np\n",
    "path=\"/Users/nikitalakhotia/Desktop/msba docs/data programming/project/Speed Dating Data.csv\"\n",
    "data=pd.read_csv(path)"
   ]
  },
  {
   "cell_type": "code",
   "execution_count": 4,
   "metadata": {
    "collapsed": false
   },
   "outputs": [
    {
     "data": {
      "text/plain": [
       "Index([u'iid', u'id', u'gender', u'idg', u'condtn', u'wave', u'round',\n",
       "       u'position', u'positin1', u'order',\n",
       "       ...\n",
       "       u'attr3_3', u'sinc3_3', u'intel3_3', u'fun3_3', u'amb3_3', u'attr5_3',\n",
       "       u'sinc5_3', u'intel5_3', u'fun5_3', u'amb5_3'],\n",
       "      dtype='object', length=195)"
      ]
     },
     "execution_count": 4,
     "metadata": {},
     "output_type": "execute_result"
    }
   ],
   "source": [
    "data.columns"
   ]
  },
  {
   "cell_type": "code",
   "execution_count": 78,
   "metadata": {
    "collapsed": false
   },
   "outputs": [
    {
     "name": "stdout",
     "output_type": "stream",
     "text": [
      "TOTAL:\n",
      "attr1_1     3885\n",
      "sinc1_1     1965\n",
      "intel1_1    1774\n",
      "fun1_1       448\n",
      "shar1_1      161\n",
      "amb1_1        66\n",
      "Name: trait_pref, dtype: int64\n",
      "FEMALE PREFERENCE:\n",
      "sinc1_1     1448\n",
      "attr1_1     1231\n",
      "intel1_1    1068\n",
      "fun1_1       274\n",
      "shar1_1       78\n",
      "amb1_1        26\n",
      "Name: trait_pref, dtype: int64\n",
      "MALE PREFERENCE:\n",
      "attr1_1     2654\n",
      "intel1_1     706\n",
      "sinc1_1      517\n",
      "fun1_1       174\n",
      "shar1_1       83\n",
      "amb1_1        40\n",
      "Name: trait_pref, dtype: int64\n"
     ]
    },
    {
     "name": "stderr",
     "output_type": "stream",
     "text": [
      "/Users/nikitalakhotia/anaconda2/lib/python2.7/site-packages/ipykernel/__main__.py:2: SettingWithCopyWarning: \n",
      "A value is trying to be set on a copy of a slice from a DataFrame.\n",
      "Try using .loc[row_indexer,col_indexer] = value instead\n",
      "\n",
      "See the caveats in the documentation: http://pandas.pydata.org/pandas-docs/stable/indexing.html#indexing-view-versus-copy\n",
      "  from ipykernel import kernelapp as app\n"
     ]
    }
   ],
   "source": [
    "plot1=data[[\"iid\", \"gender\", \"attr1_1\",\"sinc1_1\",\"intel1_1\",\"fun1_1\",\"amb1_1\",\"shar1_1\"]]\n",
    "plot1['trait_pref'] = plot1[[\"attr1_1\",\"sinc1_1\",\"intel1_1\",\"fun1_1\",\"amb1_1\",\"shar1_1\"]].idxmax(axis=1)\n",
    "total_trait_pref=plot1[\"trait_pref\"].value_counts()\n",
    "print \"TOTAL:\"\n",
    "print total_trait_pref\n",
    "\n",
    "print \"FEMALE PREFERENCE:\"\n",
    "female_pref=plot1[plot1[\"gender\"]==0]\n",
    "female_trait_pref=female_pref[\"trait_pref\"].value_counts()\n",
    "print female_trait_pref\n",
    "\n",
    "print \"MALE PREFERENCE:\"\n",
    "male_pref=plot1[plot1[\"gender\"]==1]\n",
    "male_trait_pref=male_pref[\"trait_pref\"].value_counts()\n",
    "print male_trait_pref\n",
    "\n"
   ]
  },
  {
   "cell_type": "code",
   "execution_count": 91,
   "metadata": {
    "collapsed": false
   },
   "outputs": [],
   "source": [
    "## Scale the data ##\n",
    "# Wave 6-9 have rated in 1-10 scale, others in 1-100 scale # ratings*10 for wave 6-9 #\n",
    "'''def scale_cols(column, i):\n",
    "    data[column]=np.where(data[\"wave\"]== i, data[column]*10, data[column])\n",
    "    \n",
    "for i in range(6,10): ## for wave in (6,7,8,9)\n",
    "    scale_cols(\"attr1_1\",i)\n",
    "    scale_cols(\"sinc1_1\",i)\n",
    "    scale_cols(\"intel1_1\",i)\n",
    "    scale_cols(\"fun1_1\",i)\n",
    "    scale_cols(\"amb1_1\",i)\n",
    "    scale_cols(\"shar1_1\",i)'''\n",
    "## Scling not required"
   ]
  },
  {
   "cell_type": "code",
   "execution_count": null,
   "metadata": {
    "collapsed": false
   },
   "outputs": [],
   "source": [
    "########## Plot -1 #####################\n",
    "\n",
    "# Divide data into male and female datasets #\n",
    "data_female=data[data[\"gender\"]==0] # flitering for female\n",
    "#print len(data_female) #4184\n",
    "data_male=data[data[\"gender\"]==1] # filtering for male\n",
    "#print len(data_male) #4194"
   ]
  },
  {
   "cell_type": "code",
   "execution_count": 109,
   "metadata": {
    "collapsed": false
   },
   "outputs": [
    {
     "data": {
      "text/plain": [
       "[[18.055224242424316, 26.921689027311793],\n",
       " [18.3050084848485, 16.498435553425928],\n",
       " [21.002501818181855, 19.537374221370353],\n",
       " [17.14729212121212, 17.76389289145044],\n",
       " [12.827221818181824, 8.552828598940778],\n",
       " [12.70419449183524, 10.996574386133897]]"
      ]
     },
     "execution_count": 109,
     "metadata": {},
     "output_type": "execute_result"
    }
   ],
   "source": [
    "attribute_cols=(\"attr1_1\",\"sinc1_1\",\"intel1_1\",\"fun1_1\",\"amb1_1\",\"shar1_1\")\n",
    "outer_list=[]\n",
    "for col in attribute_cols:\n",
    "    inner_list=[]\n",
    "    inner_list.append(data_female[col].mean()) ## mean of an attribute for female\n",
    "    inner_list.append(data_male[col].mean()) ## mean of an attribute for male\n",
    "    \n",
    "    outer_list.append(inner_list)\n",
    "\n",
    "outer_list  "
   ]
  },
  {
   "cell_type": "code",
   "execution_count": 4,
   "metadata": {
    "collapsed": false
   },
   "outputs": [
    {
     "data": {
      "text/html": [
       "<iframe id=\"igraph\" scrolling=\"no\" style=\"border:none;\" seamless=\"seamless\" src=\"https://plot.ly/~nlakhotia91/27.embed\" height=\"525px\" width=\"100%\"></iframe>"
      ],
      "text/plain": [
       "<plotly.tools.PlotlyDisplay object>"
      ]
     },
     "execution_count": 4,
     "metadata": {},
     "output_type": "execute_result"
    }
   ],
   "source": [
    "import plotly\n",
    "import plotly.plotly as py\n",
    "import plotly.graph_objs as go\n",
    "\n",
    "plotly.tools.set_credentials_file(username='nlakhotia91', api_key=' ')\n",
    "\n",
    "\n",
    "labels = ['Attractive', 'Sincere', 'Intelligent', 'Fun','Ambitious','Shared Interests']\n",
    "\n",
    "colors = ['rgba(67,67,67,1)', 'rgba(115,115,115,1)', 'rgba(49,130,189, 1)', 'rgba(189,189,189,1)','rgba(67,67,67,1)', 'rgba(205,51,51)']\n",
    "\n",
    "mode_size = [12, 8, 8, 8, 8, 8]\n",
    "\n",
    "line_size = [2, 2, 2, 2, 2, 2]\n",
    "\n",
    "x_data = [\n",
    "    [\"Female\", \"Male\"],\n",
    "    [\"Female\", \"Male\"],\n",
    "    [\"Female\", \"Male\"],\n",
    "    [\"Female\", \"Male\"],\n",
    "    [\"Female\", \"Male\"],\n",
    "    [\"Female\", \"Male\"],\n",
    "]\n",
    "\n",
    "\n",
    "y_data= [\n",
    "    [18, 27],\n",
    "    [18, 16],\n",
    "    [21, 20],\n",
    "    [17, 18],\n",
    "    [13, 9],\n",
    "    [13, 11],\n",
    "]\n",
    "\n",
    "traces = []\n",
    "\n",
    "for i in range(0, 6):\n",
    "    traces.append(go.Scatter(\n",
    "        x=x_data[i],\n",
    "        y=y_data[i],\n",
    "        mode='lines',\n",
    "        line=dict(color=colors[i], width=line_size[i]),\n",
    "        connectgaps=True,\n",
    "    ))\n",
    "\n",
    "    traces.append(go.Scatter(\n",
    "        x=[x_data[i][0], x_data[i][1]],\n",
    "        y=[y_data[i][0], y_data[i][1]],\n",
    "        mode='markers',\n",
    "        marker=dict(color=colors[i], size=mode_size[i])\n",
    "    ))\n",
    "\n",
    "layout = go.Layout(\n",
    "    xaxis=dict(\n",
    "        showline=True,\n",
    "        showgrid=False,\n",
    "        showticklabels=True,\n",
    "        linecolor='rgb(204, 204, 204)',\n",
    "        linewidth=2,\n",
    "        autotick=False,\n",
    "        ticks='outside',\n",
    "        tickcolor='rgb(204, 204, 204)',\n",
    "        tickwidth=2,\n",
    "        ticklen=5,\n",
    "        tickfont=dict(\n",
    "            family='Arial',\n",
    "            size=12,\n",
    "            color='rgb(82, 82, 82)',\n",
    "        ),\n",
    "    ),\n",
    "    yaxis=dict(\n",
    "        showgrid=False,\n",
    "        zeroline=False,\n",
    "        showline=False,\n",
    "        showticklabels=False,\n",
    "    ),\n",
    "    autosize=False,\n",
    "    margin=dict(\n",
    "        autoexpand=False,\n",
    "        l=100,\n",
    "        r=20,\n",
    "        t=110,\n",
    "    ),\n",
    "    showlegend=False,\n",
    ")\n",
    "\n",
    "annotations = []\n",
    "\n",
    "# Adding labels\n",
    "for y_trace, label, color in zip(y_data, labels, colors):\n",
    "    # labeling the left_side of the plot\n",
    "    annotations.append(dict(xref='paper', x=0.05, y=y_trace[0],\n",
    "                                  xanchor='right', yanchor='middle',\n",
    "                                  text=label + ' {}'.format(y_trace[0]),\n",
    "                                  font=dict(family='Arial',\n",
    "                                            size=16,\n",
    "                                            color=colors,),\n",
    "                                  showarrow=False))\n",
    "    # labeling the right_side of the plot\n",
    "    annotations.append(dict(xref='paper', x=0.95, y=y_trace[1],\n",
    "                                  xanchor='left', yanchor='middle',\n",
    "                                  text='{}'.format(y_trace[1]),\n",
    "                                  font=dict(family='Arial',\n",
    "                                            size=16,\n",
    "                                            color=colors,),\n",
    "                                  showarrow=False))\n",
    "# Title\n",
    "annotations.append(dict(xref='paper', yref='paper', x=0.0, y=1.05,\n",
    "                              xanchor='left', yanchor='bottom',\n",
    "                              text=\" \",\n",
    "                              font=dict(family='Arial',\n",
    "                                        size=30,\n",
    "                                        color='rgb(37,37,37)'),\n",
    "                              showarrow=False))\n",
    "\n",
    "layout['annotations'] = annotations\n",
    "\n",
    "fig = go.Figure(data=traces, layout=layout)\n",
    "py.iplot(fig, filename='news-source')"
   ]
  },
  {
   "cell_type": "code",
   "execution_count": 123,
   "metadata": {
    "collapsed": false
   },
   "outputs": [
    {
     "name": "stdout",
     "output_type": "stream",
     "text": [
      "[[25, 18], [15, 18], [16, 21], [18, 17], [14, 12], [11, 12]]\n",
      "[[35, 26], [11, 16], [12, 19], [18, 17], [9, 8], [12, 10]]\n"
     ]
    }
   ],
   "source": [
    "##### what female want versus what female actually wants ######\n",
    "\n",
    "## what female wants -> data_female, attr1_1\n",
    "## what male thinks female wants -> data_male, attr2_1\n",
    "\n",
    "## what male wants -> data_male, attr1_1\n",
    "## what female thinks male wants -> data_female, attr2_1\n",
    "\n",
    "#attribute_cols1=(\"attr1_1\",\"sinc1_1\",\"intel1_1\",\"fun1_1\",\"amb1_1\",\"shar1_1\")\n",
    "#attribute_cols2=(\"attr2_1\",\"sinc2_1\",\"intel2_1\",\"fun2_1\",\"amb2_1\",\"shar2_1\")\n",
    "attribute_cols2=(\"attr\",\"sinc\",\"intel\",\"fun\",\"amb\",\"shar\")\n",
    "\n",
    "outer_list_female=[]\n",
    "outer_list_male=[]\n",
    "\n",
    "for col in attribute_cols2:\n",
    "    inner_list_female=[]\n",
    "    inner_list_male=[]\n",
    "    ## Wat male think female wants\n",
    "    inner_list_female.append(int(data_male[col+\"2_1\"].mean())) ## mean of an attribute for male # mean for attr2_1\n",
    "    ## Wat female think male wants\n",
    "    inner_list_male.append(int(data_female[col+\"2_1\"].mean())) ## mean of an attribute for female # mean for attr2_1\n",
    "\n",
    "    ## what female actually wants\n",
    "    inner_list_female.append(int(data_female[col+\"1_1\"].mean())) ## mean of an attribute for female # mean for attr1_1\n",
    "    ## what male actually wants\n",
    "    inner_list_male.append(int(data_male[col+\"1_1\"].mean())) ## mean of an attribute for male # mean for attr1_1\n",
    "\n",
    "    outer_list_female.append(inner_list_female)\n",
    "    outer_list_male.append(inner_list_male)\n",
    "\n",
    "print outer_list_female ## what male think female wants, what female actually wants \n",
    "print outer_list_male ## what female think male wants, what male actually wants"
   ]
  },
  {
   "cell_type": "code",
   "execution_count": 5,
   "metadata": {
    "collapsed": false
   },
   "outputs": [
    {
     "data": {
      "text/html": [
       "<iframe id=\"igraph\" scrolling=\"no\" style=\"border:none;\" seamless=\"seamless\" src=\"https://plot.ly/~nlakhotia91/27.embed\" height=\"525px\" width=\"100%\"></iframe>"
      ],
      "text/plain": [
       "<plotly.tools.PlotlyDisplay object>"
      ]
     },
     "execution_count": 5,
     "metadata": {},
     "output_type": "execute_result"
    }
   ],
   "source": [
    "import plotly\n",
    "import plotly.plotly as py\n",
    "import plotly.graph_objs as go\n",
    "\n",
    "plotly.tools.set_credentials_file(username='nlakhotia91', api_key=' ')\n",
    "title = 'Main Source for News'\n",
    "\n",
    "labels = ['Attractive', 'Sincere', 'Intelligent', 'Fun','Ambitious','Shared Interests']\n",
    "\n",
    "colors = ['rgba(67,67,67,1)', 'rgba(115,115,115,1)', 'rgba(49,130,189, 1)', 'rgba(189,189,189,1)','rgba(67,67,67,1)', 'rgba(205,51,51)']\n",
    "\n",
    "mode_size = [8, 8, 8, 8, 8, 8]\n",
    "\n",
    "line_size = [2, 2, 2, 2, 2, 2]\n",
    "\n",
    "x_data = [\n",
    "    [\"What men think women want\", \"what women actually wants\"],\n",
    "    [\"What men think women want\", \"what women actually wants\"],\n",
    "    [\"What men think women want\", \"what women actually wants\"],\n",
    "    [\"What men think women want\", \"what women actually wants\"],\n",
    "    [\"What men think women want\", \"what women actually wants\"],\n",
    "    [\"What men think women want\", \"what women actually wants\"],\n",
    "]\n",
    "\n",
    "\n",
    "y_data= [\n",
    "    [25, 18], [15, 18], [16, 21], [18, 17], [14, 12], [11, 12],\n",
    "]\n",
    "\n",
    "traces = []\n",
    "\n",
    "for i in range(0, 6):\n",
    "    traces.append(go.Scatter(\n",
    "        x=x_data[i],\n",
    "        y=y_data[i],\n",
    "        mode='lines',\n",
    "        line=dict(color=colors[i], width=line_size[i]),\n",
    "        connectgaps=True,\n",
    "    ))\n",
    "\n",
    "    traces.append(go.Scatter(\n",
    "        x=[x_data[i][0], x_data[i][1]],\n",
    "        y=[y_data[i][0], y_data[i][1]],\n",
    "        mode='markers',\n",
    "        marker=dict(color=colors[i], size=mode_size[i])\n",
    "    ))\n",
    "\n",
    "layout = go.Layout(\n",
    "    xaxis=dict(\n",
    "        showline=True,\n",
    "        showgrid=False,\n",
    "        showticklabels=True,\n",
    "        linecolor='rgb(204, 204, 204)',\n",
    "        linewidth=2,\n",
    "        autotick=False,\n",
    "        ticks='outside',\n",
    "        tickcolor='rgb(204, 204, 204)',\n",
    "        tickwidth=2,\n",
    "        ticklen=5,\n",
    "        tickfont=dict(\n",
    "            family='Arial',\n",
    "            size=12,\n",
    "            color='rgb(82, 82, 82)',\n",
    "        ),\n",
    "    ),\n",
    "    yaxis=dict(\n",
    "        showgrid=False,\n",
    "        zeroline=False,\n",
    "        showline=False,\n",
    "        showticklabels=False,\n",
    "    ),\n",
    "    autosize=False,\n",
    "    margin=dict(\n",
    "        autoexpand=False,\n",
    "        l=100,\n",
    "        r=20,\n",
    "        t=110,\n",
    "    ),\n",
    "    showlegend=False,\n",
    ")\n",
    "\n",
    "annotations = []\n",
    "\n",
    "# Adding labels\n",
    "for y_trace, label, color in zip(y_data, labels, colors):\n",
    "    # labeling the left_side of the plot\n",
    "    annotations.append(dict(xref='paper', x=0.05, y=y_trace[0],\n",
    "                                  xanchor='right', yanchor='middle',\n",
    "                                  text=label + ' {}'.format(y_trace[0]),\n",
    "                                  font=dict(family='Arial',\n",
    "                                            size=16,\n",
    "                                            color=colors,),\n",
    "                                  showarrow=False))\n",
    "    # labeling the right_side of the plot\n",
    "    annotations.append(dict(xref='paper', x=0.95, y=y_trace[1],\n",
    "                                  xanchor='left', yanchor='middle',\n",
    "                                  text='{}'.format(y_trace[1]),\n",
    "                                  font=dict(family='Arial',\n",
    "                                            size=16,\n",
    "                                            color=colors,),\n",
    "                                  showarrow=False))\n",
    "# Title\n",
    "annotations.append(dict(xref='paper', yref='paper', x=0.0, y=1.05,\n",
    "                              xanchor='left', yanchor='bottom',\n",
    "                              text=' ',\n",
    "                              font=dict(family='Arial',\n",
    "                                        size=30,\n",
    "                                        color='rgb(37,37,37)'),\n",
    "                              showarrow=False))\n",
    "\n",
    "layout['annotations'] = annotations\n",
    "\n",
    "fig = go.Figure(data=traces, layout=layout)\n",
    "py.iplot(fig, filename='news-source')"
   ]
  },
  {
   "cell_type": "code",
   "execution_count": 6,
   "metadata": {
    "collapsed": false
   },
   "outputs": [
    {
     "data": {
      "text/html": [
       "<iframe id=\"igraph\" scrolling=\"no\" style=\"border:none;\" seamless=\"seamless\" src=\"https://plot.ly/~nlakhotia91/27.embed\" height=\"525px\" width=\"100%\"></iframe>"
      ],
      "text/plain": [
       "<plotly.tools.PlotlyDisplay object>"
      ]
     },
     "execution_count": 6,
     "metadata": {},
     "output_type": "execute_result"
    }
   ],
   "source": [
    "import plotly\n",
    "import plotly.plotly as py\n",
    "import plotly.graph_objs as go\n",
    "\n",
    "plotly.tools.set_credentials_file(username='nlakhotia91', api_key=' ')\n",
    "title = 'Main Source for News'\n",
    "\n",
    "labels = ['Attractive', 'Sincere', 'Intelligent', 'Fun','Ambitious','Shared Interests']\n",
    "\n",
    "colors = ['rgba(67,67,67,1)', 'rgba(115,115,115,1)', 'rgba(49,130,189, 1)', 'rgba(189,189,189,1)','rgba(67,67,67,1)', 'rgba(205,51,51)']\n",
    "\n",
    "mode_size = [8, 8, 8, 8, 8, 8]\n",
    "\n",
    "line_size = [2, 2, 2, 2, 2, 2]\n",
    "\n",
    "x_data = [\n",
    "    [\"What women think men want\", \"what men actually want\"],\n",
    "    [\"What women think men want\", \"what men actually want\"],\n",
    "    [\"What women think men want\", \"what men actually want\"],\n",
    "    [\"What women think men want\", \"what men actually want\"],\n",
    "    [\"What women think men want\", \"what men actually want\"],\n",
    "    [\"What women think men want\", \"what men actually want\"],\n",
    "]\n",
    "\n",
    "\n",
    "y_data= [\n",
    "    [35, 26], [11, 16], [12, 19], [18, 17], [9, 8], [12, 10],\n",
    "]\n",
    "\n",
    "traces = []\n",
    "\n",
    "for i in range(0, 6):\n",
    "    traces.append(go.Scatter(\n",
    "        x=x_data[i],\n",
    "        y=y_data[i],\n",
    "        mode='lines',\n",
    "        line=dict(color=colors[i], width=line_size[i]),\n",
    "        connectgaps=True,\n",
    "    ))\n",
    "\n",
    "    traces.append(go.Scatter(\n",
    "        x=[x_data[i][0], x_data[i][1]],\n",
    "        y=[y_data[i][0], y_data[i][1]],\n",
    "        mode='markers',\n",
    "        marker=dict(color=colors[i], size=mode_size[i])\n",
    "    ))\n",
    "\n",
    "layout = go.Layout(\n",
    "    xaxis=dict(\n",
    "        showline=True,\n",
    "        showgrid=False,\n",
    "        showticklabels=True,\n",
    "        linecolor='rgb(204, 204, 204)',\n",
    "        linewidth=2,\n",
    "        autotick=False,\n",
    "        ticks='outside',\n",
    "        tickcolor='rgb(204, 204, 204)',\n",
    "        tickwidth=2,\n",
    "        ticklen=5,\n",
    "        tickfont=dict(\n",
    "            family='Arial',\n",
    "            size=12,\n",
    "            color='rgb(82, 82, 82)',\n",
    "        ),\n",
    "    ),\n",
    "    yaxis=dict(\n",
    "        showgrid=False,\n",
    "        zeroline=False,\n",
    "        showline=False,\n",
    "        showticklabels=False,\n",
    "    ),\n",
    "    autosize=False,\n",
    "    margin=dict(\n",
    "        autoexpand=False,\n",
    "        l=100,\n",
    "        r=20,\n",
    "        t=110,\n",
    "    ),\n",
    "    showlegend=False,\n",
    ")\n",
    "\n",
    "annotations = []\n",
    "\n",
    "# Adding labels\n",
    "for y_trace, label, color in zip(y_data, labels, colors):\n",
    "    # labeling the left_side of the plot\n",
    "    annotations.append(dict(xref='paper', x=0.05, y=y_trace[0],\n",
    "                                  xanchor='right', yanchor='middle',\n",
    "                                  text=label + ' {}'.format(y_trace[0]),\n",
    "                                  font=dict(family='Arial',\n",
    "                                            size=16,\n",
    "                                            color=colors,),\n",
    "                                  showarrow=False))\n",
    "    # labeling the right_side of the plot\n",
    "    annotations.append(dict(xref='paper', x=0.95, y=y_trace[1],\n",
    "                                  xanchor='left', yanchor='middle',\n",
    "                                  text='{}'.format(y_trace[1]),\n",
    "                                  font=dict(family='Arial',\n",
    "                                            size=16,\n",
    "                                            color=colors,),\n",
    "                                  showarrow=False))\n",
    "# Title\n",
    "annotations.append(dict(xref='paper', yref='paper', x=0.0, y=1.05,\n",
    "                              xanchor='left', yanchor='bottom',\n",
    "                              text=' ',\n",
    "                              font=dict(family='Arial',\n",
    "                                        size=30,\n",
    "                                        color='rgb(37,37,37)'),\n",
    "                              showarrow=False))\n",
    "\n",
    "layout['annotations'] = annotations\n",
    "\n",
    "fig = go.Figure(data=traces, layout=layout)\n",
    "py.iplot(fig, filename='news-source')"
   ]
  },
  {
   "cell_type": "code",
   "execution_count": null,
   "metadata": {
    "collapsed": false
   },
   "outputs": [],
   "source": []
  },
  {
   "cell_type": "code",
   "execution_count": null,
   "metadata": {
    "collapsed": true
   },
   "outputs": [],
   "source": []
  }
 ],
 "metadata": {
  "kernelspec": {
   "display_name": "Python 2",
   "language": "python",
   "name": "python2"
  },
  "language_info": {
   "codemirror_mode": {
    "name": "ipython",
    "version": 2
   },
   "file_extension": ".py",
   "mimetype": "text/x-python",
   "name": "python",
   "nbconvert_exporter": "python",
   "pygments_lexer": "ipython2",
   "version": "2.7.11"
  }
 },
 "nbformat": 4,
 "nbformat_minor": 0
}
