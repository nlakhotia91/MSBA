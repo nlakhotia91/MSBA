{
 "cells": [
  {
   "cell_type": "code",
   "execution_count": null,
   "metadata": {
    "collapsed": true
   },
   "outputs": [],
   "source": []
  },
  {
   "cell_type": "markdown",
   "metadata": {},
   "source": [
    "# Homework 1\n",
    "## Group 2: "
   ]
  },
  {
   "cell_type": "markdown",
   "metadata": {},
   "source": [
    "## Problem 1 : Rock, Paper, Scissors\n",
    "Game setup. Each game round consists two turns, the first by the computer and the second by a human. \n",
    "The computer continues playing rounds until the human chooses to quit.\n",
    "* The computer chooses one of Rock, Paper, and Scissors, but keeps its\n",
    "choice secret.\n",
    "* The computer asks for the human's input.\n",
    "* The human chooses one of Rock, Paper, and Scissors, or Quit.\n",
    "* Unless the human quits, the computer figures out the result of the\n",
    "game, as follows:\n",
    "    * Rock smashes Scissors, so Rock beats Scissors.\n",
    "    * Scissors can cut up paper, so Scissors beat Paper.\n",
    "    * Paper covers Rock, so Paper beats Rock.\n",
    "* If both players chose the same, it is a draw. The computer reports the\n",
    "result of this round.\n",
    "* If the human chooses to quit, the computer reports:\n",
    "    * the number of games played, and\n",
    "    * the number of times the human won.\n",
    "    \n",
    "Our approach was to create a dictionary with the options for the game and initialize a counter for each choice. Next, create a loop that has the computer's choice be based on the count of the user's choices in the past. For example, if the user's choice count is highest for rock, the computer will select paper. Then, it prompts the user for their choice and prints the outcome of the game. "
   ]
  },
  {
   "cell_type": "code",
   "execution_count": null,
   "metadata": {
    "collapsed": true
   },
   "outputs": [],
   "source": [
    "import random\n",
    "def game():\n",
    "    ''' This funtion does not take in any argument. It computes the game \"rock, paper, scissors\" and outputs\n",
    "    the outcome of the game. It also outputs the number of times played and number of times the human won.'''\n",
    "    game_list=[\"Rock\",\"Paper\",\"Scissors\"] \n",
    "    keys={\"Rock\":\"Scissors\",\"Scissors\":\"Paper\",\"Paper\":\"Rock\"}\n",
    "    quit_list=[\"Quit\"]\n",
    "#print game_list\n",
    "    w=0 ## total number of win\n",
    "    i=0 ## total number of games\n",
    "    r=0 ## total number of rocks input by human\n",
    "    s=0 ## total number of rocks input by scissors\n",
    "    p=0 ## total number of rocks input by paper\n",
    "    while True: ## infinite loop\n",
    "        if i==0: \n",
    "            computer_choice=random.choice(game_list) ## first choice by computer --> randomly\n",
    "        elif i>0: ## loop for choices other thn first choice\n",
    "            ## if rock is chosen more number of times in past, then computer choice will be Paper as computer will suspect \n",
    "            ## human will choose rock again, and as per logic paper beats rock!!\n",
    "            if r>s and r>p:  \n",
    "                computer_choice=\"Paper\"\n",
    "            elif s>r and s>p:\n",
    "                computer_choice=\"Rock\"\n",
    "            elif p>r and p>s:\n",
    "                computer_choice=\"Scissors\"\n",
    "            elif p>r and p==s:\n",
    "                computer_choice=\"Scissors\"\n",
    "            elif r>p and r==s:\n",
    "                computer_choice=\"Rock\"\n",
    "            elif r>s and p==r:\n",
    "                computer_choice=\"Paper\"\n",
    "            if r==s==p:\n",
    "                computer_choice=random.choice(game_list)\n",
    "        print game_list\n",
    "        human_choice=raw_input(\"Please choose from the given list: \") ##taking input from human\n",
    "        human_choice=human_choice.title() ## input is aligned in a set format i.e. rock-> Rock or ROCK-> Rock\n",
    "    \n",
    "        if human_choice not in (game_list) + (quit_list): ##if human inputs anything except the given choices or quit\n",
    "            print \"Error: Choose again!!\" ## print Error\n",
    "            continue\n",
    "        elif human_choice in (quit_list): ## if human quits\n",
    "            print \"Quit!\"\n",
    "            print \"Total number of games played :\",str(i) ## prints total number of games played\n",
    "            print \"Number of times human won :\",str(w) ## print total number of win\n",
    "            break\n",
    "        else: \n",
    "            if human_choice==\"Rock\": ## keeping count of total number rocks\n",
    "                r+=1\n",
    "            elif human_choice==\"Scissors\": ## keeping count of total number scissors\n",
    "                s+=1\n",
    "            elif human_choice==\"Paper\": ## keeping count of total n\n",
    "                p+=1\n",
    "            \n",
    "            print \"I chose : \", computer_choice ## prints computer choice\n",
    "            if keys[human_choice]==computer_choice: ## condition when  human will win\n",
    "                print \"You won!!\"\n",
    "                w+=1\n",
    "            \n",
    "            elif keys[computer_choice]==human_choice: ## condition when computer will win\n",
    "                print \"You lost! Try Again.\"\n",
    "\n",
    "            elif human_choice==computer_choice: ## condition for draw\n",
    "                print \"Draw!!\"\n",
    "            \n",
    "        i+=1 ## number of games played\n",
    "\n"
   ]
  },
  {
   "cell_type": "code",
   "execution_count": null,
   "metadata": {
    "collapsed": false
   },
   "outputs": [],
   "source": [
    "# call the function game to play \"Rock, Paper, Scissors\"\n",
    "game()"
   ]
  },
  {
   "cell_type": "markdown",
   "metadata": {},
   "source": [
    "## Problem 2: Voters in Florida\n",
    "The file FloridaVoters.html contains a Web Table of republican and democratic voters in various counties in Florida. We wrote code that reads in this text file and prints out the counties, along with the number of republican and democratic voters in those counties, sorted by the number of democratic voters.\n",
    "\n",
    "Our approach was to open the FloridaVoters file, make it its own index in the list, make a list of all the cells in the table, and make it a list of tuples. Next, we sorted the table. Finally, we printed the results. "
   ]
  },
  {
   "cell_type": "code",
   "execution_count": 15,
   "metadata": {
    "collapsed": false
   },
   "outputs": [],
   "source": [
    "import re #I'll want to use regex later\n",
    "\n",
    "file = open(\"FloridaVoters.html\", 'r') #opening the file "
   ]
  },
  {
   "cell_type": "code",
   "execution_count": 16,
   "metadata": {
    "collapsed": false
   },
   "outputs": [],
   "source": [
    "floridaLines = [] #initializing the list. \n",
    "for line in file: #I want to take every line in the file and make it its own index in the list\n",
    "    floridaLines.append(line)\n",
    "\n",
    "file.close() #Now that I have all the data from the file, I'll close it\n"
   ]
  },
  {
   "cell_type": "code",
   "execution_count": null,
   "metadata": {
    "collapsed": false
   },
   "outputs": [],
   "source": [
    "tableData = [] #Initializing the list. I want to make a list of all the cells in the table. \n",
    "for lines in floridaLines: #for each line in my big list\n",
    "    if \"<td>\" in lines: #if the table tag exists\n",
    "        tableData.append(re.sub(\"<td>|</td>|\\n|,\",\"\", lines)) #store it in my tableData list and clean it up with regex \n",
    "        #My regex says, when you find a \"<td>\" or \"<\\td> or return carriage or a comma, replace it with \"\" for lines\n"
   ]
  },
  {
   "cell_type": "code",
   "execution_count": 13,
   "metadata": {
    "collapsed": false
   },
   "outputs": [],
   "source": [
    "fullTable = [] #Initializing \n",
    "\n",
    "for i in range(0,len(tableData),6):\n",
    "    innerTuple = () #Unnecessary, but for clarity, I'm showing this tuple being reinitialized\n",
    "    innerTuple = (tableData[i],int(tableData[i+1]),int(tableData[i+2])) #Since the values we want are i, i+1, and i+2, it is easy to retrieve them\n",
    "    fullTable.append(innerTuple) #Added to the the list. So it should be a list of tuples. \n"
   ]
  },
  {
   "cell_type": "code",
   "execution_count": 20,
   "metadata": {
    "collapsed": true
   },
   "outputs": [],
   "source": [
    "fullTable = sorted(fullTable, key = lambda x:x[2]) #Sorted it with the sorted function. Used a lambda expression to make it sort by the 3rd item in the tuple"
   ]
  },
  {
   "cell_type": "code",
   "execution_count": 21,
   "metadata": {
    "collapsed": false
   },
   "outputs": [
    {
     "name": "stdout",
     "output_type": "stream",
     "text": [
      "LAFAYETTE         1373      2672\n",
      "GLADES            2190      3110\n",
      "LIBERTY            720      3372\n",
      "UNION             2752      3579\n",
      "GILCHRIST         5789      3652\n",
      "FRANKLIN          2234      4319\n",
      "HOLMES            5282      4434\n",
      "GULF              4234      4521\n",
      "HARDEE            4859      4702\n",
      "HAMILTON          2154      4796\n",
      "DIXIE             3314      4839\n",
      "CALHOUN           2201      5324\n",
      "WASHINGTON        7101      5687\n",
      "JEFFERSON         2636      5802\n",
      "BAKER             6963      5813\n",
      "BRADFORD          6878      6533\n",
      "TAYLOR            3950      6915\n",
      "MADISON           2992      7158\n",
      "DESOTO            4870      7181\n",
      "OKEECHOBEE        7755      7756\n",
      "HENDRY            5862      7999\n",
      "WAKULLA           7374      8889\n",
      "LEVY             11665      9509\n",
      "WALTON           25609     10013\n",
      "SUWANNEE         10745     11126\n",
      "NASSAU           32958     14013\n",
      "COLUMBIA         15790     14797\n",
      "JACKSON           9626     15706\n",
      "MONROE           20602     17614\n",
      "HIGHLANDS        27100     19997\n",
      "PUTNAM           17067     20606\n",
      "GADSDEN           4372     22161\n",
      "SUMTER           47158     22977\n",
      "FLAGLER          30047     24734\n",
      "OKALOOSA         75154     25172\n",
      "SANTA ROSA       73627     26114\n",
      "MARTIN           53800     27358\n",
      "INDIAN RIVER     47794     28204\n",
      "CITRUS           46373     30440\n",
      "BAY              57456     30733\n",
      "CLAY             76584     31285\n",
      "CHARLOTTE        54421     35602\n",
      "ST. JOHNS        88385     39531\n",
      "HERNANDO         51254     42499\n",
      "COLLIER         100167     45511\n",
      "LAKE             93604     67237\n",
      "MANATEE          96063     67926\n",
      "ESCAMBIA         90265     70180\n",
      "OSCEOLA          44594     75657\n",
      "ST. LUCIE        59626     76163\n",
      "MARION           97306     76268\n",
      "ALACHUA          47329     77996\n",
      "SARASOTA        125872     89711\n",
      "SEMINOLE        107833     91686\n",
      "LEON             54554    103140\n",
      "PASCO           125305    104324\n",
      "LEE             180718    114633\n",
      "VOLUSIA         121402    124136\n",
      "BREVARD         167129    127435\n",
      "POLK            140619    143799\n",
      "PINELLAS        223077    221968\n",
      "DUVAL           210195    229501\n",
      "ORANGE          206174    303458\n",
      "HILLSBOROUGH    257436    314265\n",
      "PALM BEACH      245452    367236\n",
      "MIAMI-DADE      362161    539367\n",
      "BROWARD         249762    566185\n",
      "Total          4377713   4637026\n"
     ]
    }
   ],
   "source": [
    "for tup in fullTable: #Printing tuple by tuple \n",
    "    print '{0:12s}'.format(tup[0]) + '{0:10d}'.format(tup[1]) + '{0:10d}'.format(tup[2]) #Lots of fun with formatting"
   ]
  },
  {
   "cell_type": "markdown",
   "metadata": {},
   "source": [
    "## Problem 3 : The Google of Quotes\n",
    "The file \"quotes.txt\" contains pairs of lines, with the first line being a quote\n",
    "and the following line being the person who said it. We want to build a\n",
    "search engine that, given a word or words, finds the best matching quotes.\n",
    "\n",
    "Our approach was to read in the file and save it to a list of strings called quotes which contains a quote and speaker on each line and used rstrip to removed spaces and return carriages. Then, we created a loop that uses the functions worder & countDict to make dictionaries whose keys are quotes and whose values are dictionaries whose keys are unique words and values are the number of times those words appear in the quote/outer key. We then iterated through all quotes to get a list of all words in quotes and iterated through the tempList to create a list of only unique words. We turned the quote into a list of words and whenever there is a word in the shortList that matches the word we want, we add 1 to the counter. Next, we iterated over every word to be used as keys and iterated over every quote. We only added to dictionary if word appears at least once. In summary, we used the functions listed below to complete the steps a-g.\n",
    "\n",
    "We split up the problem and created several functions. The functions capabilities include taking a full quote string as argument and outputing a list of lowercase words in it, taking in a list of strings and returning a dictionary whose keys are unique words in the list and values are the number of times those words appear in the list, taking in words(strings) and quotes (strings) and returning the number of times the word appears in the string (int), taking in a word (string) and quote (string) and returning the number of times a word occurs in quote , divided by the maximum number of times any word occurs in quote (float), taking in the total number of quotes as an int and the number of quotes that contains that word which is also an int which then calculates inverse document frequency, taking a word of interest (string), a list of quotes(strings), and a quote(string) which then calculates the total frequency multiplied by the inverse document frequency and returns the TFIDF as a float, taking in one word and returning a dictionary whose keys are full quotes and values are the tfidf, and taking a list of words(strings) and returning a dictionary whose keys are full quotes which contain the word and whose values are the sum of the ifidf of all words searched."
   ]
  },
  {
   "cell_type": "code",
   "execution_count": 1,
   "metadata": {
    "collapsed": true
   },
   "outputs": [],
   "source": [
    "import string\n",
    "import re \n",
    "from collections import Counter\n",
    "import math"
   ]
  },
  {
   "cell_type": "code",
   "execution_count": 2,
   "metadata": {
    "collapsed": false
   },
   "outputs": [],
   "source": [
    "with open(\"quotes.txt\") as f:\n",
    "    #Reading in the file and saving it to a list called quotes. Contains a quote or speaker on each line\n",
    "    quotesQS = f.readlines() \n",
    "    quotes = []\n",
    "f.close()"
   ]
  },
  {
   "cell_type": "code",
   "execution_count": 3,
   "metadata": {
    "collapsed": true
   },
   "outputs": [],
   "source": [
    "for i in range(0,len(quotesQS),2):\n",
    "    #Takes the read file and creates the list we want \"Q - S\"\n",
    "    #rstrip to removed spaces and return carriages\n",
    "    quotes.append(quotesQS[i].rstrip()+ \" - \"+ quotesQS[i+1].rstrip()) "
   ]
  },
  {
   "cell_type": "code",
   "execution_count": 4,
   "metadata": {
    "collapsed": true
   },
   "outputs": [],
   "source": [
    "def worder(quote): \n",
    "    ''' this function takes a full quote string as argument and outputs a list of lowercase words in it'''\n",
    "    lQuote = quote.lower() \n",
    "    return filter(None, re.split(\"\\W+\", lQuote))"
   ]
  },
  {
   "cell_type": "code",
   "execution_count": 5,
   "metadata": {
    "collapsed": true
   },
   "outputs": [],
   "source": [
    "def countDict(myList):\n",
    "    ''' this function takes in a list of strings and returns a dictionary whose keys are\n",
    "    unique words in the list and values are the number of times those words appear in the list '''\n",
    "    cnt = Counter(myList) \n",
    "    return cnt "
   ]
  },
  {
   "cell_type": "code",
   "execution_count": 6,
   "metadata": {
    "collapsed": true
   },
   "outputs": [],
   "source": [
    "countedQuoutes = dict() \n",
    "bigDict = dict()\n",
    "# creates a loop that uses the functions worder & countDict we created to make dictionaries whose keys are quotes\n",
    "# and whose values are dictionaries whose keys are unique words and values are the number of times those words appear in \n",
    "# the quote/outer key\n",
    "for i in range(0, len(quotes)):\n",
    "    countedQuotes = countDict(worder(quotes[i])) \n",
    "    bigDict[quotes[i]] = countedQuotes"
   ]
  },
  {
   "cell_type": "code",
   "execution_count": 7,
   "metadata": {
    "collapsed": true
   },
   "outputs": [],
   "source": [
    "# initialize lists\n",
    "uniqueWords = [] \n",
    "tempList = []\n",
    "# iterate through all quotes to get a list of all words in quotes \n",
    "for i in range(0,len(quotes)):\n",
    "    tempList = worder(quotes[i])\n",
    "    for words in tempList: #iterate through the tempList to create a list of only unique words\n",
    "        if not words in uniqueWords: \n",
    "            uniqueWords.append(words) \n",
    "tempList = None #Making sure it stays out of my way "
   ]
  },
  {
   "cell_type": "code",
   "execution_count": 8,
   "metadata": {
    "collapsed": true
   },
   "outputs": [],
   "source": [
    "def singleLineCounter(wordTBCounted =\"notaword\", myString= \"notaquote\"): \n",
    "    '''this function takes in words(strings) and quotes (strings) and returns the number of times the word appears in the string (int)'''\n",
    "    count =0\n",
    "    shortList = worder(myString) #Turns the quote into a list of words\n",
    "    for words in shortList: \n",
    "        if words ==  wordTBCounted: #whenever there is a word in the shortList that matches the word we want we add 1 \n",
    "            count = count + 1\n",
    "    return count "
   ]
  },
  {
   "cell_type": "code",
   "execution_count": 10,
   "metadata": {
    "collapsed": true
   },
   "outputs": [],
   "source": [
    "innerDict = dict() #initializing\n",
    "reverseBigDict = dict() #initializing \n",
    "# iterating over every word to be used as keys\n",
    "for words in uniqueWords: \n",
    "    innerDict = dict() \n",
    "    #iterating over every quote\n",
    "    for i in range(0,len(quotes)):\n",
    "        if singleLineCounter(words, quotes[i]) > 0: #only adds to dictionary if word appears at least once\n",
    "            innerDict[quotes[i]] = singleLineCounter(words, quotes[i])  #innerDict has keys that are quotes whose values are the number of time the word of interest appears in the quote\n",
    "            reverseBigDict[words] = innerDict "
   ]
  },
  {
   "cell_type": "code",
   "execution_count": 11,
   "metadata": {
    "collapsed": true
   },
   "outputs": [],
   "source": [
    "def tf(word, quote):\n",
    "    '''this function calculate term frequency. It takes in a word (string) and quote (string) and returns the number of times a \n",
    "    word occurs in quote , divided by the maximum number of times any word occurs in quote (float) '''\n",
    "    wordFreq = reverseBigDict[word][quote]\n",
    "    maxWord = max(bigDict[quote].values())\n",
    "    return float(wordFreq)/maxWord \n",
    "\n",
    "def idf(totalQuotes, quotesWithWord):\n",
    "    '''this function takes in the total number of quotes as an int and the number of quotes that contains that word which is also an int. \n",
    "    It calculates inverse document frequency. The IDF of a word w is the logarithm of the ratio of the total number N of full quotes to the\n",
    "number of full quotes in that contain the word w. It returns the IDF as a float.'''\n",
    "    return math.log(float(totalQuotes)/quotesWithWord) \n",
    "\n",
    "def tf_idf(word, quoteList, quoteOfInterest):\n",
    "    '''this function takes a word of interest (string), a list of quotes(strings), and a quote(string). It calculates\n",
    "    the total frequency multiplied by the inverse document frequency and returns the TFIDF as a float'''\n",
    "    TF = tf(word, quoteOfInterest) \n",
    "    theIDF = idf(len(quotes), len(reverseBigDict[word])) \n",
    "    return TF*theIDF "
   ]
  },
  {
   "cell_type": "code",
   "execution_count": 19,
   "metadata": {
    "collapsed": true
   },
   "outputs": [],
   "source": [
    "def singleWordSearch(word): \n",
    "    \"\"\"This function takes in one word and returns a dictionary whose keys are full quotes and values are the tfidf\"\"\"\n",
    "    returnDict = {} \n",
    "    for keys in reverseBigDict[word]: \n",
    "        returnDict[keys] = tf_idf(word,quotes, keys) \n",
    "    return returnDict"
   ]
  },
  {
   "cell_type": "code",
   "execution_count": 20,
   "metadata": {
    "collapsed": true
   },
   "outputs": [],
   "source": [
    "def multiWordSearch(listicle): \n",
    "    '''this function takes a list of words(strings) and returns a dictionary whose keys are full quotes which contain the word and whose values \n",
    "    are the sum of the ifidf of all words searched'''\n",
    "    returnDict = {} \n",
    "    for word in listicle: \n",
    "        for keys in reverseBigDict[word]:  \n",
    "            if returnDict.get(keys) is None: \n",
    "                returnDict[keys] = tf_idf(word,quotes, keys) \n",
    "            else: \n",
    "                returnDict[keys] += tf_idf(word, quotes, keys)    \n",
    "    return returnDict"
   ]
  },
  {
   "cell_type": "code",
   "execution_count": 21,
   "metadata": {
    "collapsed": false
   },
   "outputs": [
    {
     "name": "stdout",
     "output_type": "stream",
     "text": [
      "['How we spend our days is, of course, how we spend our lives. - Annie Dillard', 'Two roads diverged in a wood, and I...I took the one less traveled by, and that has made all the difference. - Robert Frost', 'What is happiness? The feeling that power is growing, that resistance is overcome. - Friedrich Nietzsche', 'A great deal of intelligence can be invested in ignorance when the need for illusion is deep. - Saul Bellow', 'Those who are preoccupied with `making a statement` usually don`t have any statements worth making. - Thomas Sowell']\n"
     ]
    }
   ],
   "source": [
    "#a Build a list of full quotes\n",
    "print quotes[0:5]"
   ]
  },
  {
   "cell_type": "code",
   "execution_count": 22,
   "metadata": {
    "collapsed": false
   },
   "outputs": [
    {
     "name": "stdout",
     "output_type": "stream",
     "text": [
      "['take', 'my', 'love', 'take', 'my', 'land', 'take', 'me', 'where', 'i', 'cannot', 'stand', '112233', '_3']\n"
     ]
    }
   ],
   "source": [
    "#b Takes a full quote as an argument and counts all the words in it returns a list of words \n",
    "finalTestQuote = \"Take my love. Take my land. Take me where I cannot stand. 112233+_3\" \n",
    "print worder(finalTestQuote)"
   ]
  },
  {
   "cell_type": "code",
   "execution_count": 23,
   "metadata": {
    "collapsed": false
   },
   "outputs": [
    {
     "name": "stdout",
     "output_type": "stream",
     "text": [
      "Counter({'and': 2, 'i': 2, 'the': 2, 'a': 1, 'by': 1, 'has': 1, 'made': 1, 'less': 1, 'frost': 1, 'robert': 1, 'that': 1, 'two': 1, 'took': 1, 'difference': 1, 'wood': 1, 'diverged': 1, 'all': 1, 'in': 1, 'roads': 1, 'one': 1, 'traveled': 1})\n"
     ]
    }
   ],
   "source": [
    "#c postings-list dictionary. A dictionary whose keys are full quotes and whose values are dictionaries of the words in those \n",
    "#quotes and the the number of times they appear in the quote \n",
    "\n",
    "print bigDict[quotes[1]]"
   ]
  },
  {
   "cell_type": "code",
   "execution_count": 24,
   "metadata": {
    "collapsed": false
   },
   "outputs": [
    {
     "name": "stdout",
     "output_type": "stream",
     "text": [
      "{'My role in society, or any artist`s or poet`s role, is to try and express what we all feel. Not to tell people how to feel. Not as a preacher, not as a leader, but as a reflection of us all. - John Lennon': 1, 'An actor is at most a poet and at least an entertainer. - Marlon Brando': 1}\n",
      "{'An actor is at most a poet and at least an entertainer. - Marlon Brando': 1}\n"
     ]
    }
   ],
   "source": [
    "#d reverse-list-postings dictionary. Dictionary whose keys are words and whose values are dictionaries whose keys are full quotes\n",
    "#and whose values are the number of times the word appears in said quote. Do not store quotes who have 0 counts. \n",
    "\n",
    "print reverseBigDict[\"poet\"] \n",
    "print reverseBigDict[\"entertainer\"]"
   ]
  },
  {
   "cell_type": "code",
   "execution_count": 25,
   "metadata": {
    "collapsed": false
   },
   "outputs": [
    {
     "name": "stdout",
     "output_type": "stream",
     "text": [
      "3.3933584753\n"
     ]
    }
   ],
   "source": [
    "#e write a tfidf function\n",
    "print tf_idf(\"wood\", quotes, quotes[1])"
   ]
  },
  {
   "cell_type": "code",
   "execution_count": 26,
   "metadata": {
    "collapsed": false,
    "scrolled": true
   },
   "outputs": [
    {
     "name": "stdout",
     "output_type": "stream",
     "text": [
      "{'Two roads diverged in a wood, and I...I took the one less traveled by, and that has made all the difference. - Robert Frost': 3.3933584753025405}\n"
     ]
    }
   ],
   "source": [
    "#f Singleword search: Take one word and return a dictionary whose keys are full quotes and values are the tfidf \n",
    "print singleWordSearch(\"wood\")"
   ]
  },
  {
   "cell_type": "code",
   "execution_count": 27,
   "metadata": {
    "collapsed": false
   },
   "outputs": [
    {
     "name": "stdout",
     "output_type": "stream",
     "text": [
      "{'Two roads diverged in a wood, and I...I took the one less traveled by, and that has made all the difference. - Robert Frost': 6.786716950605081, 'An actor is at most a poet and at least an entertainer. - Marlon Brando': 6.440143360325108, 'My role in society, or any artist`s or poet`s role, is to try and express what we all feel. Not to tell people how to feel. Not as a preacher, not as a leader, but as a reflection of us all. - John Lennon': 2.0311899233483786}\n"
     ]
    }
   ],
   "source": [
    "#g MultiWord Search: Take a list of words and return a dictionary whose keys are full quotes and whose values are the \n",
    "#sum of the ifidf of all words searched \n",
    "testList = [\"wood\", \"roads\", \"poet\", \"entertainer\"]\n",
    "print multiWordSearch(testList)"
   ]
  }
 ],
 "metadata": {
  "anaconda-cloud": {},
  "kernelspec": {
   "display_name": "Python 2",
   "language": "python",
   "name": "python2"
  },
  "language_info": {
   "codemirror_mode": {
    "name": "ipython",
    "version": 2
   },
   "file_extension": ".py",
   "mimetype": "text/x-python",
   "name": "python",
   "nbconvert_exporter": "python",
   "pygments_lexer": "ipython2",
   "version": "2.7.11"
  }
 },
 "nbformat": 4,
 "nbformat_minor": 0
}
