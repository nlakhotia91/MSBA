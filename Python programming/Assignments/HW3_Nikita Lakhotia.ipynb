{
 "cells": [
  {
   "cell_type": "markdown",
   "metadata": {},
   "source": [
    "# [Q1] Read in data"
   ]
  },
  {
   "cell_type": "markdown",
   "metadata": {
    "collapsed": true
   },
   "source": [
    "Approach: To read the test file for gold and labels, read_csv function was used, and delimiter =\"\\t\" was provided alongwith appropiate column names."
   ]
  },
  {
   "cell_type": "code",
   "execution_count": 2,
   "metadata": {
    "collapsed": false,
    "scrolled": true
   },
   "outputs": [
    {
     "name": "stdout",
     "output_type": "stream",
     "text": [
      "Populating the interactive namespace from numpy and matplotlib\n",
      "*Gold Dataset*\n",
      "                                      url category\n",
      "0               http://0800-horoscope.com        G\n",
      "1                      http://18games.net        X\n",
      "2                    http://1pixelout.net        G\n",
      "3  http://1porno.com/004/teens/index.html        X\n",
      "4   http://1stpussy.com/005/16/index.html        X\n",
      "*Labels Dataset*\n",
      "             turk            url category\n",
      "0  A1OT3A29R9N1DG  http://000.cc        P\n",
      "1  A1PXXEOGQ76RNJ  http://000.cc        G\n",
      "2  A1PXXEOGQ76RNJ  http://000.cc        G\n",
      "3  A21US576U8SCO4  http://000.cc        G\n",
      "4  A2LGX47NN7C5D3  http://000.cc        G\n"
     ]
    }
   ],
   "source": [
    "import pandas as pd\n",
    "from pandas import DataFrame, Series\n",
    "import numpy as np\n",
    "%pylab inline\n",
    "path_to_file=\"/Users/nikitalakhotia/Desktop/msba docs/data programming/hw3/\" ## Define your path\n",
    "gold=pd.read_csv(path_to_file+\"gold.txt\", delimiter=\"\\t\", names=[\"url\",\"category\"]) ## reading gold dataset\n",
    "print \"*Gold Dataset*\"\n",
    "print gold[:5]\n",
    "labels=pd.read_csv(path_to_file+\"labels.txt\", delimiter=\"\\t\", names=[ \"turk\",  \"url\",\"category\"]) ## reading labels dataset\n",
    "#labels=labels.drop_duplicates()\n",
    "print \"*Labels Dataset*\"\n",
    "print labels[:5]"
   ]
  },
  {
   "cell_type": "markdown",
   "metadata": {},
   "source": [
    "# [Q2] Split into two DataFrames"
   ]
  },
  {
   "cell_type": "markdown",
   "metadata": {},
   "source": [
    "Approach: To split the dataframe into \"labels on gold \" and \"labels unknown\", a condition was given. The condition was if \"url\" in labels dataframe matches to \"url\" in gold dataset then that row was assigned to \"labels on gold\" dataset and the ones which didnt match was assigned to the \"labels unkown\" dataset."
   ]
  },
  {
   "cell_type": "code",
   "execution_count": 34,
   "metadata": {
    "collapsed": false
   },
   "outputs": [
    {
     "name": "stdout",
     "output_type": "stream",
     "text": [
      "             turk                        url category_x category_y\n",
      "0  A1253FXHCZ9CWM  http://0800-horoscope.com          G          G\n",
      "1  A153PKAL7OAY36  http://0800-horoscope.com          G          G\n",
      "2  A1FV9SAPL5C6KY  http://0800-horoscope.com          G          G\n",
      "3  A1JTOT0DWM6QGL  http://0800-horoscope.com          G          G\n",
      "             turk            url category\n",
      "0  A1OT3A29R9N1DG  http://000.cc        P\n",
      "1  A1PXXEOGQ76RNJ  http://000.cc        G\n",
      "2  A1PXXEOGQ76RNJ  http://000.cc        G\n",
      "3  A21US576U8SCO4  http://000.cc        G\n"
     ]
    }
   ],
   "source": [
    "labels_on_gold=labels.merge(gold, on=\"url\", how=\"inner\")\n",
    "print labels_on_gold[:4]\n",
    "labels_unknown=labels[labels[\"url\"].isin(list(gold[\"url\"]))==False]\n",
    "print labels_unknown[:4]"
   ]
  },
  {
   "cell_type": "markdown",
   "metadata": {},
   "source": [
    "# [Q3] Compute accuracies of turks"
   ]
  },
  {
   "cell_type": "markdown",
   "metadata": {},
   "source": [
    "Create a rater goodness DataFrame that is indexed by turk, and has two columns: the number of ratings, and the average correctness of ratings for each turk (both on gold set urls)."
   ]
  },
  {
   "cell_type": "markdown",
   "metadata": {
    "collapsed": false
   },
   "source": [
    "Approach: Create new variable which contains the value= 0 or 1. \"0\" When a particular turk is correct else \"0\". Then, group the dataset on turk with \"count\" function and save the result in new dataframe. Again group by the old dataset on turk with \"mean\" function and save the result in another dataframe.\n",
    "Both dataframes have same index i.e. \"turk\", hence join the dataframes to get number of ratings and averge correctness in the same dataframe."
   ]
  },
  {
   "cell_type": "code",
   "execution_count": 4,
   "metadata": {
    "collapsed": false
   },
   "outputs": [
    {
     "data": {
      "text/html": [
       "<div>\n",
       "<table border=\"1\" class=\"dataframe\">\n",
       "  <thead>\n",
       "    <tr style=\"text-align: right;\">\n",
       "      <th></th>\n",
       "      <th>number_ratings</th>\n",
       "      <th>avg_correctness</th>\n",
       "    </tr>\n",
       "    <tr>\n",
       "      <th>turk</th>\n",
       "      <th></th>\n",
       "      <th></th>\n",
       "    </tr>\n",
       "  </thead>\n",
       "  <tbody>\n",
       "    <tr>\n",
       "      <th>A112DVP1KG4QZU</th>\n",
       "      <td>1</td>\n",
       "      <td>1.000000</td>\n",
       "    </tr>\n",
       "    <tr>\n",
       "      <th>A1253FXHCZ9CWM</th>\n",
       "      <td>29</td>\n",
       "      <td>0.517241</td>\n",
       "    </tr>\n",
       "    <tr>\n",
       "      <th>A12CY1Q7XKJJDE</th>\n",
       "      <td>1</td>\n",
       "      <td>1.000000</td>\n",
       "    </tr>\n",
       "    <tr>\n",
       "      <th>A12RE8G66WTO8B</th>\n",
       "      <td>20</td>\n",
       "      <td>0.750000</td>\n",
       "    </tr>\n",
       "  </tbody>\n",
       "</table>\n",
       "</div>"
      ],
      "text/plain": [
       "                number_ratings  avg_correctness\n",
       "turk                                           \n",
       "A112DVP1KG4QZU               1         1.000000\n",
       "A1253FXHCZ9CWM              29         0.517241\n",
       "A12CY1Q7XKJJDE               1         1.000000\n",
       "A12RE8G66WTO8B              20         0.750000"
      ]
     },
     "execution_count": 4,
     "metadata": {},
     "output_type": "execute_result"
    }
   ],
   "source": [
    "# Creating variable whose value=1 if turk is correct otherwise 0\n",
    "labels_on_gold['avg_correctness'] = np.where(labels_on_gold[\"category_x\"]==labels_on_gold[\"category_y\"], 1,0)\n",
    "rater_goodness_cnt=labels_on_gold.groupby('turk')[[\"url\"]].count() # to get number of ratings\n",
    "rater_goodness_avg=labels_on_gold.groupby('turk')[[\"avg_correctness\"]].mean() # to get average correctness of ratings\n",
    "# merging to get \"# of ratings\" & \"average correctness\" in one dataframe with turks being index\n",
    "rater_goodness=rater_goodness_cnt.merge(rater_goodness_avg, how=\"inner\", left_index=True, right_index=True) \n",
    "# renaming variable \n",
    "rater_goodness=rater_goodness.rename(columns={'url':'number_ratings'})\n",
    "rater_goodness[:4]"
   ]
  },
  {
   "cell_type": "markdown",
   "metadata": {
    "collapsed": true
   },
   "source": [
    "# [Q4] Odds ratios"
   ]
  },
  {
   "cell_type": "markdown",
   "metadata": {},
   "source": [
    "Approach: To get the odds ratio, use the formulae - (avg_correctness)/(1.001-avg_correctness).\n",
    "In the denominator, average correction is subtracted by 1.001 instead of 1 to avoid infinity values."
   ]
  },
  {
   "cell_type": "code",
   "execution_count": 5,
   "metadata": {
    "collapsed": false
   },
   "outputs": [
    {
     "data": {
      "text/html": [
       "<div>\n",
       "<table border=\"1\" class=\"dataframe\">\n",
       "  <thead>\n",
       "    <tr style=\"text-align: right;\">\n",
       "      <th></th>\n",
       "      <th>number_ratings</th>\n",
       "      <th>avg_correctness</th>\n",
       "      <th>odds</th>\n",
       "    </tr>\n",
       "    <tr>\n",
       "      <th>turk</th>\n",
       "      <th></th>\n",
       "      <th></th>\n",
       "      <th></th>\n",
       "    </tr>\n",
       "  </thead>\n",
       "  <tbody>\n",
       "    <tr>\n",
       "      <th>A112DVP1KG4QZU</th>\n",
       "      <td>1</td>\n",
       "      <td>1.000000</td>\n",
       "      <td>1000.000000</td>\n",
       "    </tr>\n",
       "    <tr>\n",
       "      <th>A1253FXHCZ9CWM</th>\n",
       "      <td>29</td>\n",
       "      <td>0.517241</td>\n",
       "      <td>1.069214</td>\n",
       "    </tr>\n",
       "    <tr>\n",
       "      <th>A12CY1Q7XKJJDE</th>\n",
       "      <td>1</td>\n",
       "      <td>1.000000</td>\n",
       "      <td>1000.000000</td>\n",
       "    </tr>\n",
       "    <tr>\n",
       "      <th>A12RE8G66WTO8B</th>\n",
       "      <td>20</td>\n",
       "      <td>0.750000</td>\n",
       "      <td>2.988048</td>\n",
       "    </tr>\n",
       "  </tbody>\n",
       "</table>\n",
       "</div>"
      ],
      "text/plain": [
       "                number_ratings  avg_correctness         odds\n",
       "turk                                                        \n",
       "A112DVP1KG4QZU               1         1.000000  1000.000000\n",
       "A1253FXHCZ9CWM              29         0.517241     1.069214\n",
       "A12CY1Q7XKJJDE               1         1.000000  1000.000000\n",
       "A12RE8G66WTO8B              20         0.750000     2.988048"
      ]
     },
     "execution_count": 5,
     "metadata": {},
     "output_type": "execute_result"
    }
   ],
   "source": [
    "rater_goodness[\"odds\"]=rater_goodness[\"avg_correctness\"]/(1.001-rater_goodness[\"avg_correctness\"])\n",
    "rater_goodness[:4]"
   ]
  },
  {
   "cell_type": "markdown",
   "metadata": {},
   "source": [
    "# [Q5] Most accurate turks"
   ]
  },
  {
   "cell_type": "markdown",
   "metadata": {},
   "source": [
    "Approach: Created a new dataframe with turks who have rated atleast more than 20 urls and sorted them on their correctness. "
   ]
  },
  {
   "cell_type": "code",
   "execution_count": 6,
   "metadata": {
    "collapsed": false
   },
   "outputs": [
    {
     "data": {
      "text/html": [
       "<div>\n",
       "<table border=\"1\" class=\"dataframe\">\n",
       "  <thead>\n",
       "    <tr style=\"text-align: right;\">\n",
       "      <th></th>\n",
       "      <th>number_ratings</th>\n",
       "      <th>avg_correctness</th>\n",
       "      <th>odds</th>\n",
       "    </tr>\n",
       "    <tr>\n",
       "      <th>turk</th>\n",
       "      <th></th>\n",
       "      <th></th>\n",
       "      <th></th>\n",
       "    </tr>\n",
       "  </thead>\n",
       "  <tbody>\n",
       "    <tr>\n",
       "      <th>A2U0R4X38GUKZE</th>\n",
       "      <td>20</td>\n",
       "      <td>0.950000</td>\n",
       "      <td>18.627451</td>\n",
       "    </tr>\n",
       "    <tr>\n",
       "      <th>A22C0PJUBFJTI0</th>\n",
       "      <td>36</td>\n",
       "      <td>0.916667</td>\n",
       "      <td>10.869565</td>\n",
       "    </tr>\n",
       "    <tr>\n",
       "      <th>A23YQUBXZPKILZ</th>\n",
       "      <td>24</td>\n",
       "      <td>0.875000</td>\n",
       "      <td>6.944444</td>\n",
       "    </tr>\n",
       "    <tr>\n",
       "      <th>ATVALOQVDCMZW</th>\n",
       "      <td>103</td>\n",
       "      <td>0.854369</td>\n",
       "      <td>5.826657</td>\n",
       "    </tr>\n",
       "    <tr>\n",
       "      <th>A1HIXWH4OXT8S4</th>\n",
       "      <td>40</td>\n",
       "      <td>0.825000</td>\n",
       "      <td>4.687500</td>\n",
       "    </tr>\n",
       "    <tr>\n",
       "      <th>A3220HG1O83HQ4</th>\n",
       "      <td>22</td>\n",
       "      <td>0.818182</td>\n",
       "      <td>4.475385</td>\n",
       "    </tr>\n",
       "    <tr>\n",
       "      <th>A32W20KGQXS0LL</th>\n",
       "      <td>25</td>\n",
       "      <td>0.800000</td>\n",
       "      <td>3.980100</td>\n",
       "    </tr>\n",
       "    <tr>\n",
       "      <th>A20PWAB7G3HDHU</th>\n",
       "      <td>20</td>\n",
       "      <td>0.800000</td>\n",
       "      <td>3.980100</td>\n",
       "    </tr>\n",
       "    <tr>\n",
       "      <th>AJSJVK40F5HM6</th>\n",
       "      <td>28</td>\n",
       "      <td>0.785714</td>\n",
       "      <td>3.649635</td>\n",
       "    </tr>\n",
       "    <tr>\n",
       "      <th>A31OCN4MNHUQ6W</th>\n",
       "      <td>184</td>\n",
       "      <td>0.777174</td>\n",
       "      <td>3.472222</td>\n",
       "    </tr>\n",
       "  </tbody>\n",
       "</table>\n",
       "</div>"
      ],
      "text/plain": [
       "                number_ratings  avg_correctness       odds\n",
       "turk                                                      \n",
       "A2U0R4X38GUKZE              20         0.950000  18.627451\n",
       "A22C0PJUBFJTI0              36         0.916667  10.869565\n",
       "A23YQUBXZPKILZ              24         0.875000   6.944444\n",
       "ATVALOQVDCMZW              103         0.854369   5.826657\n",
       "A1HIXWH4OXT8S4              40         0.825000   4.687500\n",
       "A3220HG1O83HQ4              22         0.818182   4.475385\n",
       "A32W20KGQXS0LL              25         0.800000   3.980100\n",
       "A20PWAB7G3HDHU              20         0.800000   3.980100\n",
       "AJSJVK40F5HM6               28         0.785714   3.649635\n",
       "A31OCN4MNHUQ6W             184         0.777174   3.472222"
      ]
     },
     "execution_count": 6,
     "metadata": {},
     "output_type": "execute_result"
    }
   ],
   "source": [
    "rater_goodness_20=rater_goodness[rater_goodness[\"number_ratings\"]>=20]\n",
    "rater_goodness_20.sort_values(\"avg_correctness\",ascending=False)[:10] "
   ]
  },
  {
   "cell_type": "markdown",
   "metadata": {},
   "source": [
    "# [Q6] Rating counts versus accuracy"
   ]
  },
  {
   "cell_type": "markdown",
   "metadata": {},
   "source": [
    "Approach: To check if there is relationship between number of ratings by a turk and turk's accuracy, scatter was plot created using both the variables.\n",
    "Insights: In the plot shown below, it is evident that accuracy of ratings by turk in not entirely dependent on number of ratings by the same turk. For example, turks with higher accuracy (around 0.9) has lower number of ratings (around 25).\n",
    "Even the value of correlation between the two variable is not high (it is around 0.045)"
   ]
  },
  {
   "cell_type": "code",
   "execution_count": 7,
   "metadata": {
    "collapsed": false
   },
   "outputs": [
    {
     "data": {
      "image/png": "[encoded data removed]",
      "text/plain": [
       "<matplotlib.figure.Figure at 0x112057490>"
      ]
     },
     "metadata": {},
     "output_type": "display_data"
    }
   ],
   "source": [
    "plot(rater_goodness['avg_correctness'], rater_goodness['number_ratings'], marker='o', color='blue', linestyle='None')\n",
    "xlabel('Accuracy')\n",
    "ylabel('Number of ratings')\n",
    "title('Number of ratings versus Accuracy')\n",
    "show()"
   ]
  },
  {
   "cell_type": "code",
   "execution_count": 8,
   "metadata": {
    "collapsed": false
   },
   "outputs": [
    {
     "name": "stdout",
     "output_type": "stream",
     "text": [
      "[[ 1.          0.04529238]\n",
      " [ 0.04529238  1.        ]]\n"
     ]
    }
   ],
   "source": [
    "import numpy ## correlation coefficient\n",
    "print numpy.corrcoef(rater_goodness['avg_correctness'], rater_goodness['number_ratings'])"
   ]
  },
  {
   "cell_type": "markdown",
   "metadata": {},
   "source": [
    "# [Q7] Overall predicted odds"
   ]
  },
  {
   "cell_type": "raw",
   "metadata": {},
   "source": [
    "Approach: To get the turk who have rated more than gold set urls than 75% of all turks, quantile function was used on number of ratings from rater_goodness dataset.\n",
    "Then the dataset is merged with labels unkown dataset (because we want urls that is not in the gold set) on turk, to get \"url\" and \"category\" variable.\n",
    "On the merge dataset, groupby function is performed, to get product of odds for all url and category level.\n",
    "The product of odds is our overall odds."
   ]
  },
  {
   "cell_type": "code",
   "execution_count": 29,
   "metadata": {
    "collapsed": false
   },
   "outputs": [
    {
     "data": {
      "text/html": [
       "<div>\n",
       "<table border=\"1\" class=\"dataframe\">\n",
       "  <thead>\n",
       "    <tr style=\"text-align: right;\">\n",
       "      <th></th>\n",
       "      <th>url</th>\n",
       "      <th>category</th>\n",
       "      <th>overall_odds</th>\n",
       "    </tr>\n",
       "  </thead>\n",
       "  <tbody>\n",
       "    <tr>\n",
       "      <th>0</th>\n",
       "      <td>http://0-101.net</td>\n",
       "      <td>G</td>\n",
       "      <td>2.155963</td>\n",
       "    </tr>\n",
       "    <tr>\n",
       "      <th>1</th>\n",
       "      <td>http://000.cc</td>\n",
       "      <td>G</td>\n",
       "      <td>1.460583</td>\n",
       "    </tr>\n",
       "    <tr>\n",
       "      <th>2</th>\n",
       "      <td>http://0000.jp</td>\n",
       "      <td>G</td>\n",
       "      <td>14.488244</td>\n",
       "    </tr>\n",
       "    <tr>\n",
       "      <th>3</th>\n",
       "      <td>http://000relationships.com</td>\n",
       "      <td>G</td>\n",
       "      <td>5.681060</td>\n",
       "    </tr>\n",
       "  </tbody>\n",
       "</table>\n",
       "</div>"
      ],
      "text/plain": [
       "                           url category  overall_odds\n",
       "0             http://0-101.net        G      2.155963\n",
       "1                http://000.cc        G      1.460583\n",
       "2               http://0000.jp        G     14.488244\n",
       "3  http://000relationships.com        G      5.681060"
      ]
     },
     "execution_count": 29,
     "metadata": {},
     "output_type": "execute_result"
    }
   ],
   "source": [
    "## filter for the 4th quantile for number of ratings\n",
    "rater_goodness_75=rater_goodness[rater_goodness[\"number_ratings\"]>rater_goodness[\"number_ratings\"].quantile(0.75)] \n",
    "rater_goodness_75.reset_index(level=0, inplace=True) ## reset index to get turk as a column\n",
    "data1=rater_goodness_75[[\"turk\",\"odds\"]] \n",
    "data2=pd.merge(labels_unknown, data1, how=\"inner\", on=\"turk\") # merging with labels_unknown to get url and category\n",
    "data3=data2.groupby(['url','category'])[[\"odds\"]].prod() # to calculte product of odds\n",
    "data3=data3.reset_index() ## reset index to get url and category as columns\n",
    "data3 = data3.rename(columns={'odds':'overall_odds'}) ## renaming odds as overall odds\n",
    "data3[:4]"
   ]
  },
  {
   "cell_type": "markdown",
   "metadata": {
    "collapsed": true
   },
   "source": [
    "# [Q8] Predicted categories"
   ]
  },
  {
   "cell_type": "markdown",
   "metadata": {},
   "source": [
    "Approach: Take the resultant dataset from above part and perform groupby on url to get the maximum of overall odds for each url. \n",
    "Merge the resultant dataset with the above dataset on url and overall_odds to get the category corresponding to that maximum value of overall odd."
   ]
  },
  {
   "cell_type": "code",
   "execution_count": 30,
   "metadata": {
    "collapsed": false
   },
   "outputs": [
    {
     "data": {
      "text/html": [
       "<div>\n",
       "<table border=\"1\" class=\"dataframe\">\n",
       "  <thead>\n",
       "    <tr style=\"text-align: right;\">\n",
       "      <th></th>\n",
       "      <th>url</th>\n",
       "      <th>top_odds</th>\n",
       "      <th>top_category</th>\n",
       "    </tr>\n",
       "  </thead>\n",
       "  <tbody>\n",
       "    <tr>\n",
       "      <th>0</th>\n",
       "      <td>http://0-101.net</td>\n",
       "      <td>2.155963</td>\n",
       "      <td>G</td>\n",
       "    </tr>\n",
       "    <tr>\n",
       "      <th>1</th>\n",
       "      <td>http://000.cc</td>\n",
       "      <td>1.460583</td>\n",
       "      <td>G</td>\n",
       "    </tr>\n",
       "    <tr>\n",
       "      <th>2</th>\n",
       "      <td>http://0000.jp</td>\n",
       "      <td>14.488244</td>\n",
       "      <td>G</td>\n",
       "    </tr>\n",
       "    <tr>\n",
       "      <th>3</th>\n",
       "      <td>http://000relationships.com</td>\n",
       "      <td>5.681060</td>\n",
       "      <td>G</td>\n",
       "    </tr>\n",
       "  </tbody>\n",
       "</table>\n",
       "</div>"
      ],
      "text/plain": [
       "                           url   top_odds top_category\n",
       "0             http://0-101.net   2.155963            G\n",
       "1                http://000.cc   1.460583            G\n",
       "2               http://0000.jp  14.488244            G\n",
       "3  http://000relationships.com   5.681060            G"
      ]
     },
     "execution_count": 30,
     "metadata": {},
     "output_type": "execute_result"
    }
   ],
   "source": [
    "result_75=data3.groupby(['url'], sort=False)[['overall_odds']].max() # maximum value of overall odd for each url\n",
    "result_75=result_75.reset_index() # reset index to get url as a column\n",
    "#merge to get category corresponding to maximum value of overall odds\n",
    "result_75=pd.merge(result_75, data3, how=\"left\", on=[\"url\",\"overall_odds\"]) \n",
    "result_75 = result_75.rename(columns={'overall_odds':\"top_odds\", 'category':\"top_category\"}) \n",
    "result_75[:4]"
   ]
  },
  {
   "cell_type": "markdown",
   "metadata": {},
   "source": [
    "# [Q9] Predicted categories using more turks"
   ]
  },
  {
   "cell_type": "markdown",
   "metadata": {},
   "source": [
    "Approach: Repeat Q7 & Q8 for quantile =0.25\n",
    "Merge the result_25 and result_75 on url.\n",
    "Create a cross table with top category for result_25 as columns and top category for result_75 as index\n",
    "Error: Ratings present in results_25 table and differ rating under result_75 table for a particular url id defined as a error. \n",
    "Most number of errors is in category G, and highest percentage of error is in category P"
   ]
  },
  {
   "cell_type": "code",
   "execution_count": 31,
   "metadata": {
    "collapsed": false
   },
   "outputs": [
    {
     "data": {
      "text/html": [
       "<div>\n",
       "<table border=\"1\" class=\"dataframe\">\n",
       "  <thead>\n",
       "    <tr style=\"text-align: right;\">\n",
       "      <th></th>\n",
       "      <th>url</th>\n",
       "      <th>top_odds</th>\n",
       "      <th>top_category</th>\n",
       "    </tr>\n",
       "  </thead>\n",
       "  <tbody>\n",
       "    <tr>\n",
       "      <th>0</th>\n",
       "      <td>http://0-101.net</td>\n",
       "      <td>2.155963e+00</td>\n",
       "      <td>G</td>\n",
       "    </tr>\n",
       "    <tr>\n",
       "      <th>1</th>\n",
       "      <td>http://000.cc</td>\n",
       "      <td>2.181050e+03</td>\n",
       "      <td>G</td>\n",
       "    </tr>\n",
       "    <tr>\n",
       "      <th>2</th>\n",
       "      <td>http://0000.jp</td>\n",
       "      <td>2.877556e+07</td>\n",
       "      <td>G</td>\n",
       "    </tr>\n",
       "    <tr>\n",
       "      <th>3</th>\n",
       "      <td>http://000relationships.com</td>\n",
       "      <td>1.851852e+00</td>\n",
       "      <td>P</td>\n",
       "    </tr>\n",
       "  </tbody>\n",
       "</table>\n",
       "</div>"
      ],
      "text/plain": [
       "                           url      top_odds top_category\n",
       "0             http://0-101.net  2.155963e+00            G\n",
       "1                http://000.cc  2.181050e+03            G\n",
       "2               http://0000.jp  2.877556e+07            G\n",
       "3  http://000relationships.com  1.851852e+00            P"
      ]
     },
     "execution_count": 31,
     "metadata": {},
     "output_type": "execute_result"
    }
   ],
   "source": [
    "rater_goodness_25=rater_goodness[rater_goodness[\"number_ratings\"]>rater_goodness[\"number_ratings\"].quantile(0.25)] ## filter for 4th quantile\n",
    "rater_goodness_25.reset_index(level=0, inplace=True) ##\n",
    "data1_25=rater_goodness_25[[\"turk\",\"odds\"]]\n",
    "data2_25=pd.merge(labels_unknown, data1_25, how=\"inner\", on=\"turk\")\n",
    "data3_25=data2_25.groupby(['url','category'])[[\"odds\"]].prod()\n",
    "data3_25=data3_25.reset_index()\n",
    "data3_25 =data3_25.rename(columns={'odds': 'overall_odds'})\n",
    "\n",
    "result_25=data3_25.groupby(['url'], sort=False)[['overall_odds']].max()\n",
    "result_25=result_25.reset_index()\n",
    "result_25=pd.merge(result_25, data3_25, how=\"left\", on=[\"url\",\"overall_odds\"])\n",
    "\n",
    "result_25 = result_25.rename(columns={'overall_odds':\"top_odds\", 'category':\"top_category\"})\n",
    "result_25[:4]"
   ]
  },
  {
   "cell_type": "code",
   "execution_count": 32,
   "metadata": {
    "collapsed": false
   },
   "outputs": [
    {
     "data": {
      "text/html": [
       "<div>\n",
       "<table border=\"1\" class=\"dataframe\">\n",
       "  <thead>\n",
       "    <tr style=\"text-align: right;\">\n",
       "      <th>top_category_y</th>\n",
       "      <th>G</th>\n",
       "      <th>P</th>\n",
       "      <th>R</th>\n",
       "      <th>X</th>\n",
       "    </tr>\n",
       "    <tr>\n",
       "      <th>top_category_x</th>\n",
       "      <th></th>\n",
       "      <th></th>\n",
       "      <th></th>\n",
       "      <th></th>\n",
       "    </tr>\n",
       "  </thead>\n",
       "  <tbody>\n",
       "    <tr>\n",
       "      <th>G</th>\n",
       "      <td>8327</td>\n",
       "      <td>190</td>\n",
       "      <td>21</td>\n",
       "      <td>27</td>\n",
       "    </tr>\n",
       "    <tr>\n",
       "      <th>P</th>\n",
       "      <td>575</td>\n",
       "      <td>330</td>\n",
       "      <td>34</td>\n",
       "      <td>6</td>\n",
       "    </tr>\n",
       "    <tr>\n",
       "      <th>R</th>\n",
       "      <td>188</td>\n",
       "      <td>47</td>\n",
       "      <td>128</td>\n",
       "      <td>26</td>\n",
       "    </tr>\n",
       "    <tr>\n",
       "      <th>X</th>\n",
       "      <td>217</td>\n",
       "      <td>19</td>\n",
       "      <td>27</td>\n",
       "      <td>457</td>\n",
       "    </tr>\n",
       "  </tbody>\n",
       "</table>\n",
       "</div>"
      ],
      "text/plain": [
       "top_category_y     G    P    R    X\n",
       "top_category_x                     \n",
       "G               8327  190   21   27\n",
       "P                575  330   34    6\n",
       "R                188   47  128   26\n",
       "X                217   19   27  457"
      ]
     },
     "execution_count": 32,
     "metadata": {},
     "output_type": "execute_result"
    }
   ],
   "source": [
    "merge_results=pd.merge(result_25, result_75, on=\"url\", how=\"inner\")\n",
    "crosstab_results=pd.crosstab(merge_results[\"top_category_x\"],merge_results[\"top_category_y\"]) # cross tabulation\n",
    "crosstab_results"
   ]
  },
  {
   "cell_type": "code",
   "execution_count": null,
   "metadata": {
    "collapsed": false
   },
   "outputs": [],
   "source": []
  },
  {
   "cell_type": "code",
   "execution_count": null,
   "metadata": {
    "collapsed": false
   },
   "outputs": [],
   "source": []
  },
  {
   "cell_type": "code",
   "execution_count": null,
   "metadata": {
    "collapsed": true
   },
   "outputs": [],
   "source": []
  }
 ],
 "metadata": {
  "kernelspec": {
   "display_name": "Python 2",
   "language": "python",
   "name": "python2"
  },
  "language_info": {
   "codemirror_mode": {
    "name": "ipython",
    "version": 2
   },
   "file_extension": ".py",
   "mimetype": "text/x-python",
   "name": "python",
   "nbconvert_exporter": "python",
   "pygments_lexer": "ipython2",
   "version": "2.7.11"
  }
 },
 "nbformat": 4,
 "nbformat_minor": 0
}
